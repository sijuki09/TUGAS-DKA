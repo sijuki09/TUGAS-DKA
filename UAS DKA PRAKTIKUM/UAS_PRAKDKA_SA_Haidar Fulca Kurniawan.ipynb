{
 "cells": [
  {
   "cell_type": "markdown",
   "metadata": {
    "id": "u4fKqMAMm0Xf"
   },
   "source": [
    "### Soal: Pengaturan Letak Sensor di Area 2D\n",
    "Letakkan 5 sensor dalam area 10x10 sehingga saling berjauhan sejauh mungkin. Gunakan SA untuk meminimalkan total tumpang tindih antar sensor.\n",
    "\n",
    "$$\n",
    "\\text{jarak}(a, b) = \\sqrt{(x_1 - x_2)^2 + (y_1 - y_2)^2}\n",
    "$$"
   ]
  },
  {
   "cell_type": "code",
   "execution_count": 27,
   "metadata": {
    "id": "U8vMKsiclCgw"
   },
   "outputs": [],
   "source": [
    "import random, math  # Import pustaka random dan math"
   ]
  },
  {
   "cell_type": "code",
   "execution_count": 28,
   "metadata": {
    "id": "01uFCuogm80a"
   },
   "outputs": [],
   "source": [
    "def distance(a, b):\n",
    "    # Tugas Anda: Nilai 20\n",
    "    # Jarak Euclidean\n",
    "    return math.sqrt((a[0] - b[0]) ** 2 + (a[1] - b[1]) ** 2)"
   ]
  },
  {
   "cell_type": "code",
   "execution_count": 29,
   "metadata": {
    "id": "kBNMWP-DnFKY"
   },
   "outputs": [],
   "source": [
    "def evaluate(sensors):\n",
    "    overlap = 0\n",
    "    for i in range(len(sensors)):\n",
    "        for j in range(i+1, len(sensors)):\n",
    "            # Tugas Anda: Nilai 20\n",
    "            # Hitung pasangan sensor terlalu dekat\n",
    "            if distance(sensors[i], sensors[j]) < 1.0:\n",
    "                overlap += 1\n",
    "    return overlap"
   ]
  },
  {
   "cell_type": "code",
   "execution_count": 30,
   "metadata": {
    "id": "zyreSTEenGyk"
   },
   "outputs": [],
   "source": [
    "def simulated_annealing_sensors(T=100, alpha=0.95):\n",
    "    sensors = [(random.uniform(0, 10), random.uniform(0, 10)) for _ in range(5)]  # Inisialisasi\n",
    "    current_score = evaluate(sensors)\n",
    "    while T > 0.01 and current_score > 0:\n",
    "        new_sensors = sensors[:]\n",
    "        i = random.randint(0, 4)\n",
    "        new_sensors[i] = (random.uniform(0, 10), random.uniform(0, 10))\n",
    "        # Tugas Anda: Nilai 40\n",
    "        # Ubah posisi satu sensor\n",
    "        new_score = evaluate(new_sensors)\n",
    "        delta = new_score - current_score\n",
    "        # Evaluasi solusi baru\n",
    "        if delta < 0 or math.exp(-delta / T) > random.random():\n",
    "            sensors = new_sensors\n",
    "            current_score = new_score\n",
    "        T *= alpha  # Pendinginan\n",
    "    return sensors, current_score"
   ]
  },
  {
   "cell_type": "code",
   "execution_count": 32,
   "metadata": {
    "id": "aaVfN--pnIzu"
   },
   "outputs": [
    {
     "name": "stdout",
     "output_type": "stream",
     "text": [
      "Posisi sensor: [(0.3890724395158174, 0.16578645897512234), (1.2267775132718417, 6.406665006086153), (6.6645593538096515, 6.508247068541157), (7.08453585482283, 2.0099817537845963), (9.1139417478172, 9.86719944050853)]\n",
      "Jumlah overlap: 0\n"
     ]
    }
   ],
   "source": [
    "# Tugas Anda: Nilai 20\n",
    "# Jalankan algoritma\n",
    "# Cetak hasil\n",
    "hasil, skor = simulated_annealing_sensors()\n",
    "print(\"Posisi sensor:\", hasil)\n",
    "print(\"Jumlah overlap:\", skor)"
   ]
  }
 ],
 "metadata": {
  "colab": {
   "authorship_tag": "ABX9TyMtmmiiHNvDB3C70dD+4jOc",
   "provenance": []
  },
  "kernelspec": {
   "display_name": "Python 3",
   "name": "python3"
  },
  "language_info": {
   "codemirror_mode": {
    "name": "ipython",
    "version": 3
   },
   "file_extension": ".py",
   "mimetype": "text/x-python",
   "name": "python",
   "nbconvert_exporter": "python",
   "pygments_lexer": "ipython3",
   "version": "3.13.2"
  }
 },
 "nbformat": 4,
 "nbformat_minor": 0
}
