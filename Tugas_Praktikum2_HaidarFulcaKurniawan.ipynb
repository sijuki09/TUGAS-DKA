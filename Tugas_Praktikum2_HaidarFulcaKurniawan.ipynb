{
 "cells": [
  {
   "cell_type": "markdown",
   "metadata": {},
   "source": [
    "<div align=\"center\">\n",
    "<h1>Jurnal Praktikum Dasar Kecerdasan Artifisial</h1>\n",
    "<h3>Modul 2: Pengenalan Library NumPy</h3>\n",
    "</div>"
   ]
  },
  {
   "cell_type": "markdown",
   "metadata": {},
   "source": [
    "### Tujuan Praktikum\n",
    "- Memahami konsep dasar array multidimensi dan bagaimana NumPy dapat digunakan untuk memanipulasi data secara efisien.\n",
    "- Menguasai penggunaan fungsi dan operasi dasar NumPy, seperti pembuatan array, reshaping, indexing, serta pengolahan statistik.\n",
    "- Mengaplikasikan NumPy dalam pemecahan masalah numerik dan pemodelan data untuk keperluan kecerdasan buatan dan analisis data."
   ]
  },
  {
   "cell_type": "markdown",
   "metadata": {},
   "source": [
    "**Jangan lupa untuk selalu import Library NumPy memulai sesi baru (run time) atau script Python yang memerlukan penggunaan library NumPy.**"
   ]
  },
  {
   "cell_type": "code",
   "execution_count": 1,
   "metadata": {},
   "outputs": [],
   "source": [
    "import numpy as np"
   ]
  },
  {
   "cell_type": "markdown",
   "metadata": {},
   "source": [
    "### 1. Definisi Array dan Array NumPy (Bobot Nilai: `5`)"
   ]
  },
  {
   "cell_type": "markdown",
   "metadata": {},
   "source": [
    "**a.** Lengkapi potongan kode di bawah ini untuk membuat array Python biasa dan array NumPy, kemudian bandingkan perbedaan bentuknya."
   ]
  },
  {
   "cell_type": "code",
   "execution_count": 2,
   "metadata": {},
   "outputs": [],
   "source": [
    "# Inisialisasi array Python biasa\n",
    "array_python = None # Ganti nilai None dengan inisialisai array Python biasa\n",
    "\n",
    "# Inisialisasi array NumPy\n",
    "array_numpy = None # Ganti nilai None dengan inisialisasi array NumPy\n",
    "\n",
    "# Cek tipe variabel\n",
    "print(\"Tipe array_python:\", type(array_python))\n",
    "print(\"Tipe array_numpy:\", type(array_numpy))"
   ]
  },
  {
   "cell_type": "markdown",
   "metadata": {},
   "source": [
    "*Test case* program\n",
    "\n",
    "|**Input**|**Output**    |\n",
    "|---------|--------------|\n",
    "|         |'Tipe array_python: <class 'list'>'<br>'Tipe array_numpy: <class 'numpy.ndarray'>'|"
   ]
  },
  {
   "cell_type": "markdown",
   "metadata": {},
   "source": [
    "**b.** Buat program yang menerima input dari pengguna berupa daftar bilangan, kemudian bentuk array Python biasa dan array NumPy dari daftar tersebut."
   ]
  },
  {
   "cell_type": "code",
   "execution_count": null,
   "metadata": {},
   "outputs": [],
   "source": [
    "# Input dari user\n",
    "data = input(\"Masukkan daftar bilangan, pisahkan dengan koma: \").split(\",\")\n",
    "\n",
    "# Masukkan data ke array Python biasa\n",
    "array_python = None\n",
    "\n",
    "# Masukkan data ke array NumPy\n",
    "array_numpy = np.array(None) \n",
    "\n",
    "# Tampilkan hasil\n",
    "print(\"Array Python:\", array_python)\n",
    "print(\"Array NumPy:\", array_numpy)"
   ]
  },
  {
   "cell_type": "markdown",
   "metadata": {},
   "source": [
    "*Test case* program\n",
    "\n",
    "|**Input**|**Output**    |\n",
    "|---------|--------------|\n",
    "|1,2,3,4|Array Python: [1, 2, 3, 4]<br>Array NumPy: [1 2 3 4]|\n",
    "|10,20,30|Array Python: [10, 20, 30]<br>Array NumPy: [10 20 30]|"
   ]
  },
  {
   "cell_type": "markdown",
   "metadata": {},
   "source": [
    "### 2. Atribut Array NumPy (Bobot Nilai: `10`)"
   ]
  },
  {
   "cell_type": "markdown",
   "metadata": {},
   "source": [
    "Lengkapilah kode berikut untuk memeriksa atribut-atribut dimensi, bentuk, ukuran, dan tipe data dari array NumPy yang telah dibuat. Tujuan dari tugas ini adalah memahami bagaimana mendapatkan dimensi, bentuk, ukuran, dan tipe data dari array NumPy."
   ]
  },
  {
   "cell_type": "code",
   "execution_count": null,
   "metadata": {},
   "outputs": [],
   "source": [
    "# Inisialisasi array NumPy\n",
    "array_numpy = np.array([[1, 2, 3], [4, 5, 6]])\n",
    "\n",
    "# Periksa jumlah dimensi \n",
    "jumlah_dimensi = None \n",
    "\n",
    "# Periksa bentuk array (shape)\n",
    "bentuk_array = None \n",
    "\n",
    "# Periksa ukuran array (size)\n",
    "ukuran_array = None \n",
    "\n",
    "# Periksa tipe data array (dtype)\n",
    "tipe_data = None  \n",
    "\n",
    "print(\"Jumlah dimensi:\", jumlah_dimensi)\n",
    "print(\"Bentuk array:\", bentuk_array)\n",
    "print(\"Ukuran array:\", ukuran_array)\n",
    "print(\"Tipe data array:\", tipe_data)"
   ]
  },
  {
   "cell_type": "markdown",
   "metadata": {},
   "source": [
    "*Test case* program\n",
    "\n",
    "|**Input**|**Output**    |\n",
    "|---------|--------------|\n",
    "|         |'Jumlah dimensi: 2'<br>'Bentuk array: (2, 3)'<br>'Ukuran array: 6'<br>'Tipe data array: int64'|"
   ]
  },
  {
   "cell_type": "markdown",
   "metadata": {},
   "source": [
    "### 3. Deklarasi Array dengan NumPy (Bobot Nilai: `10`)"
   ]
  },
  {
   "cell_type": "markdown",
   "metadata": {},
   "source": [
    "**a.** Inisialisasikan sebuah array 2D 2x3 yang berisi nilai nol."
   ]
  },
  {
   "cell_type": "code",
   "execution_count": null,
   "metadata": {},
   "outputs": [],
   "source": [
    "# Inisialisasi array dengan nilai nol\n",
    "array = None  \n",
    "\n",
    "print(array)"
   ]
  },
  {
   "cell_type": "markdown",
   "metadata": {},
   "source": [
    "*Test case* program\n",
    "\n",
    "|**Input**|**Output**    |\n",
    "|---------|--------------|\n",
    "|         |[[0. 0. 0.]<br>[0. 0. 0.]]|"
   ]
  },
  {
   "cell_type": "markdown",
   "metadata": {},
   "source": [
    "**b.** Inisialisasikan sebuah array 3D 3x2x4 yang berisi nilai satu."
   ]
  },
  {
   "cell_type": "code",
   "execution_count": null,
   "metadata": {},
   "outputs": [],
   "source": [
    "# Inisialisasi array dengan nilai satu\n",
    "array = None  \n",
    "\n",
    "print(array)"
   ]
  },
  {
   "cell_type": "markdown",
   "metadata": {},
   "source": [
    "*Test case* program\n",
    "\n",
    "|**Input**|**Output**    |\n",
    "|---------|--------------|\n",
    "|         |[[[1. 1. 1. 1.]<br>  [1. 1. 1. 1.]]<br><br> [[1. 1. 1. 1.]<br>  [1. 1. 1. 1.]]<br><br> [[1. 1. 1. 1.]<br>  [1. 1. 1. 1.]]]|"
   ]
  },
  {
   "cell_type": "markdown",
   "metadata": {},
   "source": [
    "**c.** Inisialisasikan sebuah array 1D berukuran 5 dengan nilai acak."
   ]
  },
  {
   "cell_type": "code",
   "execution_count": 3,
   "metadata": {},
   "outputs": [],
   "source": [
    "# Inisialisasi array dengan nilai acak\n",
    "array = None \n",
    "\n",
    "print(array)"
   ]
  },
  {
   "cell_type": "markdown",
   "metadata": {},
   "source": [
    "*Test case* program\n",
    "\n",
    "|**Input**|**Output**    |\n",
    "|---------|--------------|\n",
    "|         |[6.23042070e-307   4.67296746e-307   1.69121096e-306   6.11557788e-312   3.33510022e-317]<br>*Catatan: Angka akan tergenerate secara random*|"
   ]
  },
  {
   "cell_type": "markdown",
   "metadata": {},
   "source": [
    "**d.** Inisialisasikan sebuah array 1D dengan range nilai dari 0 hingga 10."
   ]
  },
  {
   "cell_type": "code",
   "execution_count": null,
   "metadata": {},
   "outputs": [],
   "source": [
    "# Inisialisasi array dengan range nilai\n",
    "array = None\n",
    "\n",
    "print(array)"
   ]
  },
  {
   "cell_type": "markdown",
   "metadata": {},
   "source": [
    "*Test case* program\n",
    "\n",
    "|**Input**|**Output**    |\n",
    "|---------|--------------|\n",
    "|         |[0 1 2 3 4 5 6 7 8 9]|"
   ]
  },
  {
   "cell_type": "markdown",
   "metadata": {},
   "source": [
    "**e.** Inisialisasikan sebuah array 1D yang memiliki nilai yang terdistribusi merata antara 0 hingga 1 dengan 5 elemen"
   ]
  },
  {
   "cell_type": "code",
   "execution_count": null,
   "metadata": {},
   "outputs": [],
   "source": [
    "# Inisialisasi array dengan linspace\n",
    "array = None \n",
    "\n",
    "print(array)"
   ]
  },
  {
   "cell_type": "markdown",
   "metadata": {},
   "source": [
    "*Test case* program\n",
    "\n",
    "|**Input**|**Output**    |\n",
    "|---------|--------------|\n",
    "|         |[0. 0.25 0.5 0.75 1. ]|"
   ]
  },
  {
   "cell_type": "markdown",
   "metadata": {},
   "source": [
    "**f.** Buatlah array 2D berukuran 2x3 dengan semua elemen diisi dengan angka 7"
   ]
  },
  {
   "cell_type": "code",
   "execution_count": null,
   "metadata": {},
   "outputs": [],
   "source": [
    "# Inisialisasi array dengan nilai tetap\n",
    "array = None \n",
    "\n",
    "print(array)"
   ]
  },
  {
   "cell_type": "markdown",
   "metadata": {},
   "source": [
    "*Test case* program\n",
    "\n",
    "|**Input**|**Output**    |\n",
    "|---------|--------------|\n",
    "|         |[[7 7 7]<br> [7 7 7]]|"
   ]
  },
  {
   "cell_type": "markdown",
   "metadata": {},
   "source": [
    "**g.** Buatlah sebuah array 1D dengan 4 nilai acak antara 0 dan 1"
   ]
  },
  {
   "cell_type": "code",
   "execution_count": null,
   "metadata": {},
   "outputs": [],
   "source": [
    "# Inisialisasi array dengan nilai acak\n",
    "array = None\n",
    "\n",
    "print(array)"
   ]
  },
  {
   "cell_type": "markdown",
   "metadata": {},
   "source": [
    "*Test case* program\n",
    "\n",
    "|**Input**|**Output**    |\n",
    "|---------|--------------|\n",
    "|         |[0.67039964 0.38240816 0.9551951  0.07901245]<br>*Catatan: Angka akan tergenerate secara random*|"
   ]
  },
  {
   "cell_type": "markdown",
   "metadata": {},
   "source": [
    "**h.** Buatlah array 2D berukuran 3x3 yang berisi bilangan acak bulat antara 1 dan 10"
   ]
  },
  {
   "cell_type": "code",
   "execution_count": null,
   "metadata": {},
   "outputs": [],
   "source": [
    "# Inisialisasi array dengan bilangan bulat acak\n",
    "array = None \n",
    "\n",
    "print(array)"
   ]
  },
  {
   "cell_type": "markdown",
   "metadata": {},
   "source": [
    "*Test case* program\n",
    "\n",
    "|**Input**|**Output**    |\n",
    "|---------|--------------|\n",
    "|         |[[5 2 9] <br>[1 8 3] <br>[7 6 4]]<br>*Catatan: Angka akan tergenerate secara random*|"
   ]
  },
  {
   "cell_type": "markdown",
   "metadata": {},
   "source": [
    "**i.** Buatlah array 2D berukuran 3x3 yang isinya merupakan menghasilkan nilai dari perkalian baris dan kolomnya"
   ]
  },
  {
   "cell_type": "code",
   "execution_count": null,
   "metadata": {},
   "outputs": [],
   "source": [
    "# Inisialisasi array menggunakan fungsi\n",
    "\n",
    "# Buat function perkalian dari dua bilangan\n",
    "def perkalian(None):\n",
    "    return None\n",
    "\n",
    "array = None # Ganti None dengan sintaks deklarasi array yang sesuai\n",
    "\n",
    "print(array)"
   ]
  },
  {
   "cell_type": "markdown",
   "metadata": {},
   "source": [
    "*Test case* program\n",
    "\n",
    "|**Input**|**Output**    |\n",
    "|---------|--------------|\n",
    "|         |[[0. 0. 0.] <br>[0. 1. 2.] <br>[0. 2. 4.]]|"
   ]
  },
  {
   "cell_type": "markdown",
   "metadata": {},
   "source": [
    "### 4. Penambahan Elemen Array (Bobot Nilai:`5`)"
   ]
  },
  {
   "cell_type": "markdown",
   "metadata": {},
   "source": [
    "**a.** Anda bekerja dengan data mahasiswa yang disimpan dalam array NumPy. Data ini terdiri dari nama-nama mahasiswa dari dua kelas berbeda. Tugas Anda adalah menggabungkan data dari kedua kelas tersebut ke dalam satu array."
   ]
  },
  {
   "cell_type": "code",
   "execution_count": null,
   "metadata": {},
   "outputs": [],
   "source": [
    "# Data dari kelas A dan kelas B\n",
    "kelas_A = np.array(['Afeef', 'Rafly', 'Arya'])\n",
    "kelas_B = np.array(['Reza', 'Valen', 'Iksan'])\n",
    "\n",
    "# Gabungkan kedua array \n",
    "data_mahasiswa = None \n",
    "print(data_mahasiswa)"
   ]
  },
  {
   "cell_type": "markdown",
   "metadata": {},
   "source": [
    "*Test case* program\n",
    "\n",
    "|**Input**|**Output**    |\n",
    "|---------|--------------|\n",
    "|         |['Afeef' 'Rafly' 'Arya' 'Reza' 'Valen' 'Iksan']|"
   ]
  },
  {
   "cell_type": "markdown",
   "metadata": {},
   "source": [
    "**b.** Dua matakuliah memerlukan penggabungan data nilai untuk analisis lebih lanjut. Nilai kedua matkul tersebut disimpan dalam array terpisah. Gabungkan kedua array ini menjadi satu. Usahakan gunakan sintaks penggabungan array yang berbeda dengan soal sebelumnya. "
   ]
  },
  {
   "cell_type": "code",
   "execution_count": null,
   "metadata": {},
   "outputs": [],
   "source": [
    "# Nilai matkul A dan B\n",
    "nilai_A = np.array([75, 80, 85])\n",
    "nilai_B = np.array([70, 90, 95])\n",
    "\n",
    "# Gabungkan kedua array\n",
    "nilai_total = None\n",
    "\n",
    "print(nilai_total)"
   ]
  },
  {
   "cell_type": "markdown",
   "metadata": {},
   "source": [
    "*Test case* program\n",
    "\n",
    "|**Input**|**Output**    |\n",
    "|---------|--------------|\n",
    "|         |[75 80 85 70 90 95]|"
   ]
  },
  {
   "cell_type": "markdown",
   "metadata": {},
   "source": [
    "**c.** Anda diminta untuk menambahkan nilai ujian tengah semester (UTS) pada posisi tertentu dalam array nilai mahasiswa."
   ]
  },
  {
   "cell_type": "code",
   "execution_count": null,
   "metadata": {},
   "outputs": [],
   "source": [
    "# Nilai akhir mahasiswa\n",
    "nilai = np.array([85, 90, 95])\n",
    "\n",
    "# Sisipkan nilai UTS (88) di posisi ke-2\n",
    "nilai_dengan_uts = None \n",
    "print(nilai_dengan_uts)"
   ]
  },
  {
   "cell_type": "markdown",
   "metadata": {},
   "source": [
    "*Test case* program\n",
    "\n",
    "|**Input**|**Output**    |\n",
    "|---------|--------------|\n",
    "|         |[85 88 90 95]|"
   ]
  },
  {
   "cell_type": "markdown",
   "metadata": {},
   "source": [
    "**d.** Anda diminta untuk menggabungkan dua array nilai ke dalam sebuah array 2D untuk mempermudah analisis lebih lanjut. Usahakan gunakan sintaks penggabungan array yang berbeda dengan soal sebelumnya."
   ]
  },
  {
   "cell_type": "code",
   "execution_count": null,
   "metadata": {},
   "outputs": [],
   "source": [
    "# Nilai dari dua kelas\n",
    "nilai_kelas_A = np.array([80, 85, 90])\n",
    "nilai_kelas_B = np.array([75, 88, 92])\n",
    "\n",
    "# Gabungkan menjadi array 2D \n",
    "nilai_gabungan = None \n",
    "print(nilai_gabungan)"
   ]
  },
  {
   "cell_type": "markdown",
   "metadata": {},
   "source": [
    "*Test case* program\n",
    "\n",
    "|**Input**|**Output**    |\n",
    "|---------|--------------|\n",
    "|         |[[80 85 90]<br> [75 88 92]]|"
   ]
  },
  {
   "cell_type": "markdown",
   "metadata": {},
   "source": [
    "### 5. Penghapusan Elemen Array (Bobot Nilai: `10`)"
   ]
  },
  {
   "cell_type": "markdown",
   "metadata": {},
   "source": [
    "**a.** Seorang peneliti ingin membersihkan data yang mengandung elemen salah dalam sebuah array 1D yang berisi nilai eksperimen. Hapus elemen sesuai dengan index input si peneliti."
   ]
  },
  {
   "cell_type": "code",
   "execution_count": null,
   "metadata": {},
   "outputs": [],
   "source": [
    "# Array berisi nilai eksperimen\n",
    "nilai_eksperimen = np.array([10, 15, 18, 22])\n",
    "\n",
    "# Hapus elemen di indeks yang sesuai\n",
    "nilai_bersih = None\n",
    "print(nilai_bersih)"
   ]
  },
  {
   "cell_type": "markdown",
   "metadata": {},
   "source": [
    "*Test case* program\n",
    "\n",
    "|**Input**|**Output**    |\n",
    "|---------|--------------|\n",
    "|1|[10 18 22]|\n",
    "|3|[10 15 18]|"
   ]
  },
  {
   "cell_type": "markdown",
   "metadata": {},
   "source": [
    "**b.** Anda bekerja dengan data hasil tes dari beberapa kelompok siswa yang disimpan dalam array 2D. Namun, data dari kelompok ke-3 dan semua siswa pertama harus dihapus karena salah pencatatan. Hapus baris ketiga dan kolom pertama dari array tersebut."
   ]
  },
  {
   "cell_type": "code",
   "execution_count": null,
   "metadata": {},
   "outputs": [],
   "source": [
    "# Data hasil tes (dalam 2D array)\n",
    "hasil_tes = np.array([[85, 90, 88],\n",
    "                      [78, 82, 84],\n",
    "                      [93, 89, 92],\n",
    "                      [75, 80, 85]])\n",
    "\n",
    "print(\"Masukkan nomor kelompok dan urutan siswa, dengan dipisahkan oleh koma (,)\")\n",
    "\n",
    "# Simpan nomor kelompok (baris) dan urutan siswa (kolom) dalam list\n",
    "target_hapus = None\n",
    "\n",
    "# Hapus data dari sesuai dengan target hapus\n",
    "hasil_tes_baru = None\n",
    "\n",
    "print(hasil_tes_baru)"
   ]
  },
  {
   "cell_type": "markdown",
   "metadata": {},
   "source": [
    "*Test case* program\n",
    "\n",
    "|**Input**|**Output**    |\n",
    "|---------|--------------|\n",
    "|3,1|[[90 88]<br>[82 84]<br>[80 85]]|\n",
    "|4,2|[[85 88]<br>[78 84]<br>[93 92]]|"
   ]
  },
  {
   "cell_type": "markdown",
   "metadata": {},
   "source": [
    "**c.** Seorang ilmuwan ingin menghapus semua elemen yang berada di bawah batas nilai dalam array yang berisi data eksperimen."
   ]
  },
  {
   "cell_type": "code",
   "execution_count": null,
   "metadata": {},
   "outputs": [],
   "source": [
    "# Data eksperimen\n",
    "data = np.array([10, 3, 15, 7, 22, 17])\n",
    "\n",
    "# Menerima input batas nilai\n",
    "batas_nilai = None\n",
    "\n",
    "# Menghapus elemen dibawah batas nilai dari array\n",
    "data_bersih = None\n",
    "\n",
    "print(data_bersih)"
   ]
  },
  {
   "cell_type": "markdown",
   "metadata": {},
   "source": [
    "*Test case* program\n",
    "\n",
    "|**Input**|**Output**    |\n",
    "|---------|--------------|\n",
    "|15|[15. 22. 17.]|\n",
    "|8|[10. 15. 22. 17.]|"
   ]
  },
  {
   "cell_type": "markdown",
   "metadata": {},
   "source": [
    "### 6. Pengurutan Elemen Array (Bobot Nilai: `5`)"
   ]
  },
  {
   "cell_type": "markdown",
   "metadata": {},
   "source": [
    "**a.** Seorang petugas inventaris ingin menyusun harga barang-barang yang sudah diinput ke dalam sistem. "
   ]
  },
  {
   "cell_type": "code",
   "execution_count": null,
   "metadata": {},
   "outputs": [],
   "source": [
    "# Data harga barang\n",
    "harga_barang = np.array([35000, 25000, 50000, 45000, 30000])\n",
    "\n",
    "# Urutkan harga barang\n",
    "harga_urut = None\n",
    "\n",
    "print(harga_urut)"
   ]
  },
  {
   "cell_type": "markdown",
   "metadata": {},
   "source": [
    "*Test case* program\n",
    "\n",
    "|**Input**|**Output**    |\n",
    "|---------|--------------|\n",
    "|         |[25000 30000 35000 45000 50000]|"
   ]
  },
  {
   "cell_type": "markdown",
   "metadata": {},
   "source": [
    "**b.** Anda memiliki data hasil tes siswa dalam array 2D, di mana setiap baris adalah skor dari satu siswa."
   ]
  },
  {
   "cell_type": "code",
   "execution_count": 3,
   "metadata": {},
   "outputs": [],
   "source": [
    "# Data hasil tes siswa\n",
    "skor_siswa = np.array([[85, 78, 90], [92, 89, 85], [76, 84, 80]])\n",
    "\n",
    "# Urutkan skor setiap siswa\n",
    "skor_urut = None\n",
    "\n",
    "print(skor_urut)"
   ]
  },
  {
   "cell_type": "markdown",
   "metadata": {},
   "source": [
    "*Test case* program\n",
    "\n",
    "|**Input**|**Output**    |\n",
    "|---------|--------------|\n",
    "|         |[[78 85 90]<br> [85 89 92]<br> [76 80 84]]|"
   ]
  },
  {
   "cell_type": "markdown",
   "metadata": {},
   "source": [
    "**c.** Tim peneliti ingin mengurutkan semua data dalam array multidimensi berdasarkan nilainya (secara keseluruhan, bukan hanya per baris atau kolom). "
   ]
  },
  {
   "cell_type": "code",
   "execution_count": null,
   "metadata": {},
   "outputs": [],
   "source": [
    "# Data eksperimen\n",
    "data = np.array([[9, 4, 6], [3, 7, 1]])\n",
    "\n",
    "# Urutkan semua elemen menjadi 1 array\n",
    "data_urut = None\n",
    "\n",
    "print(data_urut)"
   ]
  },
  {
   "cell_type": "markdown",
   "metadata": {},
   "source": [
    "*Test case* program\n",
    "\n",
    "|**Input**|**Output**    |\n",
    "|---------|--------------|\n",
    "|         |[1 3 4 6 7 9]|"
   ]
  },
  {
   "cell_type": "markdown",
   "metadata": {},
   "source": [
    "### 7. Indexing dan Slicing Array (Bobot Nilai: `10`)"
   ]
  },
  {
   "cell_type": "markdown",
   "metadata": {},
   "source": [
    "**a.** Seorang peneliti memiliki data suhu harian selama satu bulan dalam bentuk array (30 hari). Peneliti ingin mengetahui suhu pada hari ke-5, hari ke-10, hari ke-25, dan hari ke-30. Setelah mendapatkan suhu-suhu tersebut, lakukan perhitungan rata-rata."
   ]
  },
  {
   "cell_type": "code",
   "execution_count": null,
   "metadata": {},
   "outputs": [],
   "source": [
    "# Data suhu selama 30 hari dengan range suhu 20 sampai 40 (buat menggunakan inisialisasi random integer)\n",
    "suhu = None\n",
    "\n",
    "# Ambil suhu pada hari ke-5, 10, 25, dan 30\n",
    "suhu_tertentu = None\n",
    "\n",
    "# Hitung rata-rata suhu\n",
    "rata_rata = None\n",
    "\n",
    "\n",
    "print(f\"Suhu hari tertentu: {suhu_tertentu}\")\n",
    "print(f\"Rata-rata: {rata_rata}\")"
   ]
  },
  {
   "cell_type": "markdown",
   "metadata": {},
   "source": [
    "*Test case* program\n",
    "\n",
    "|**Input**|**Output**    |\n",
    "|---------|--------------|\n",
    "|         |Suhu hari tertentu: [31 31 25 25]<br>Rata-rata: 28.0<br>*Catatan: Angka akan tergenerate secara random*|"
   ]
  },
  {
   "cell_type": "markdown",
   "metadata": {},
   "source": [
    "**b.** Seorang ilmuwan mencatat jumlah bakteri selama 10 hari dalam sebuah array. Namun, ia hanya ingin mengambil data pertumbuhan bakteri setiap 2 hari (hari ke-1, 3, 5, dan seterusnya) dan menghitung total pertumbuhannya."
   ]
  },
  {
   "cell_type": "code",
   "execution_count": null,
   "metadata": {},
   "outputs": [],
   "source": [
    "# Data pertumbuhan bakteri selama 10 hari\n",
    "pertumbuhan_bakteri = np.array([100, 120, 240, 130, 150, 110, 220, 175, 160, 200])\n",
    "\n",
    "# Ambil data setiap 2 hari\n",
    "data_tertentu = None\n",
    "\n",
    "# Hitung total pertumbuhan\n",
    "total_pertumbuhan = None\n",
    "\n",
    "print(f\"Data bakteri: {data_tertentu}\")\n",
    "print(f\"Total pertumbuhan: {total_pertumbuhan}\")"
   ]
  },
  {
   "cell_type": "markdown",
   "metadata": {},
   "source": [
    "*Test case* program\n",
    "\n",
    "|**Input**|**Output**    |\n",
    "|---------|--------------|\n",
    "|         |Data bakteri: [100 240 150 220 160]<br>Total pertumbuhan: 870|"
   ]
  },
  {
   "cell_type": "markdown",
   "metadata": {},
   "source": [
    "**c.** Anda memiliki array berisi data stok barang di gudang. Anda ingin menghapus semua barang yang stoknya kurang dari 50 unit, kemudian hitung total stok barang yang tersisa. Gunakan boolean indexing untuk menyaring data dan hitung totalnya."
   ]
  },
  {
   "cell_type": "code",
   "execution_count": null,
   "metadata": {},
   "outputs": [],
   "source": [
    "# Data stok barang\n",
    "stok_barang = np.array([41, 51, 75, 57, 92, 13, 35, 64, 24, 66])\n",
    "\n",
    "# Filter barang dengan stok >= 50\n",
    "stok_tersisa = None\n",
    "\n",
    "# Hitung total stok tersisa\n",
    "total_stok = None\n",
    "\n",
    "print(f\"Stok barang tersisa: {stok_tersisa}\")\n",
    "print(f\"Total stok tersisa: {total_stok}\")"
   ]
  },
  {
   "cell_type": "markdown",
   "metadata": {},
   "source": [
    "*Test case* program\n",
    "\n",
    "|**Input**|**Output**    |\n",
    "|---------|--------------|\n",
    "|         |Stok barang tersisa: [51 75 57 92 64 66]<br>Total stok tersisa: 405|"
   ]
  },
  {
   "cell_type": "markdown",
   "metadata": {},
   "source": [
    "**d.** Anda memiliki data nilai siswa untuk 5 mata pelajaran yang disimpan dalam array. Guru ingin melihat nilai siswa ke-3 untuk mata pelajaran ke-2, ke-4, dan ke-5. Buatlah kode yang dapat menampilkan data tersebut."
   ]
  },
  {
   "cell_type": "code",
   "execution_count": 1,
   "metadata": {},
   "outputs": [],
   "source": [
    "# Data nilai siswa untuk 5 mata pelajaran\n",
    "nilai = np.array([[80, 75, 85, 90, 95],\n",
    "                  [70, 85, 80, 75, 90],\n",
    "                  [88, 92, 77, 80, 85],\n",
    "                  [65, 70, 85, 95, 100]])\n",
    "\n",
    "# Ambil nilai siswa ke-3 untuk pelajaran ke-2, ke-4, dan ke-5\n",
    "nilai_tertentu = None\n",
    "\n",
    "print(f\"Nilai siswa: {nilai_tertentu}\")"
   ]
  },
  {
   "cell_type": "markdown",
   "metadata": {},
   "source": [
    "*Test case* program\n",
    "\n",
    "|**Input**|**Output**    |\n",
    "|---------|--------------|\n",
    "|         |Nilai siswa: [92 80 85]|"
   ]
  },
  {
   "cell_type": "markdown",
   "metadata": {},
   "source": [
    "### 8. Penyalinan (Copy) Array (Bobot Nilai: `5`)"
   ]
  },
  {
   "cell_type": "markdown",
   "metadata": {},
   "source": [
    "**a.** Seorang ilmuwan data ingin melakukan analisis terhadap data eksperimen dengan mengubah data aslinya. Buat salinan \"shallow copy\" dari array data asli, lalu ubah elemen tertentu pada indeks tertentu dari data yang telah disalin."
   ]
  },
  {
   "cell_type": "code",
   "execution_count": 4,
   "metadata": {},
   "outputs": [],
   "source": [
    "# Data eksperimen asli\n",
    "data_asli = np.array([10, 15, 20, 25, 30])\n",
    "\n",
    "# Buat shallow copy\n",
    "data_copy = None\n",
    "\n",
    "# Masukkan indeks elemen yang ingin diubah dan data baru dengan dipisahkan dengan koma\n",
    "informasi_perubahan = None\n",
    "\n",
    "# Ubah data_copy pada indeks yang sesuai dengan data_baru\n",
    "data_copy[None] = None\n",
    "\n",
    "# Tampilkan data_copy dan data_asli\n",
    "print(\"Data Copy:\", data_copy)\n",
    "print(\"Data Asli:\", data_asli)"
   ]
  },
  {
   "cell_type": "markdown",
   "metadata": {},
   "source": [
    "*Test case* program\n",
    "\n",
    "|**Input**|**Output**    |\n",
    "|---------|--------------|\n",
    "|1,100|Data Copy: [ 10 100  20  25  30]<br>Data Asli: [ 10 100  20  25  30]|"
   ]
  },
  {
   "cell_type": "markdown",
   "metadata": {},
   "source": [
    "**b.** Seorang peneliti ingin melakukan eksperimen dengan data cuaca, dan memastikan bahwa perubahan data baru tidak mempengaruhi data aslinya. Buat \"deep copy\" dari array cuaca dan ubah data salinan tersebut."
   ]
  },
  {
   "cell_type": "code",
   "execution_count": null,
   "metadata": {},
   "outputs": [],
   "source": [
    "# Data cuaca asli\n",
    "data_cuaca = np.array([[30, 32, 35], [28, 27, 26], [33, 31, 29]])\n",
    "\n",
    "# Buat deep copy dari data_cuaca\n",
    "data_cuaca_copy = None\n",
    "\n",
    "# Ubah elemen di baris ke-2, kolom ke-3 data_cuaca_copy menjadi 40\n",
    "data_cuaca_copy[None] = None\n",
    "\n",
    "# Tampilkan data_cuaca_copy dan data_cuaca\n",
    "print(\"Data Cuaca Copy:\\n\", data_cuaca_copy)\n",
    "print(\"Data Cuaca Asli:\\n\", data_cuaca)"
   ]
  },
  {
   "cell_type": "markdown",
   "metadata": {},
   "source": [
    "*Test case* program\n",
    "\n",
    "|**Input**|**Output**    |\n",
    "|---------|--------------|\n",
    "|         |Data Cuaca Copy:<br> [[30 32 35]<br> [28 27 40]<br>[33 31 29]]<br>Data Cuaca Asli:<br> [[30 32 35]<br> [28 27 26]<br> [33 31 29]]|"
   ]
  },
  {
   "cell_type": "markdown",
   "metadata": {},
   "source": [
    "### 9. Operasi Dasar Array (Bobot Nilai: `5`)"
   ]
  },
  {
   "cell_type": "markdown",
   "metadata": {},
   "source": [
    "**a.** Seorang guru ingin mengetahui nilai tertinggi yang diperoleh siswa dari hasil ujian matematika. Tambahkan juga kode untuk menghitung selisih antara nilai maksimum dan nilai rata-rata ujian."
   ]
  },
  {
   "cell_type": "code",
   "execution_count": null,
   "metadata": {},
   "outputs": [],
   "source": [
    "# Data nilai ujian siswa dalam array\n",
    "nilai_ujian = np.array([75, 80, 90, 85, 60])\n",
    "\n",
    "# Temukan nilai maksimum\n",
    "nilai_maksimum = None  \n",
    "\n",
    "# Hitung nilai rata-rata\n",
    "nilai_rata_rata = None \n",
    "\n",
    "# Hitung selisih antara nilai maksimum dan rata-rata\n",
    "selisih = None  \n",
    "\n",
    "# Tampilkan nilai maksimum dan selisihnya\n",
    "print(\"Nilai Maksimum:\", nilai_maksimum)\n",
    "print(\"Selisih Maksimum dan Rata-rata:\", selisih)"
   ]
  },
  {
   "cell_type": "markdown",
   "metadata": {},
   "source": [
    "*Test case* program\n",
    "\n",
    "|**Input**|**Output**    |\n",
    "|---------|--------------|\n",
    "|         |Nilai Maksimum: 90<br> Selisih Maksimum dan Rata-rata: 12.0|"
   ]
  },
  {
   "cell_type": "markdown",
   "metadata": {},
   "source": [
    "**b.** Seorang pelatih renang ingin mengetahui waktu renang tercepat dari setiap atlet. Hitung juga perbedaan waktu antara waktu tercepat dan waktu rata-rata."
   ]
  },
  {
   "cell_type": "code",
   "execution_count": null,
   "metadata": {},
   "outputs": [],
   "source": [
    "# Data waktu renang atlet (dalam detik)\n",
    "waktu_renang = np.array([50.5, 52.0, 48.7, 49.8, 51.2])\n",
    "\n",
    "# Temukan waktu tercepat\n",
    "waktu_tercepat = None  \n",
    "\n",
    "# Hitung waktu rata-rata\n",
    "waktu_rata_rata = None \n",
    "\n",
    "# Hitung perbedaan waktu tercepat dengan rata-rata\n",
    "selisih_waktu = None \n",
    "\n",
    "# Tampilkan waktu tercepat dan selisihnya\n",
    "print(\"Waktu Tercepat:\", waktu_tercepat)\n",
    "print(\"Selisih Waktu Tercepat dan Rata-rata:\", selisih_waktu)"
   ]
  },
  {
   "cell_type": "markdown",
   "metadata": {},
   "source": [
    "*Test case* program\n",
    "\n",
    "|**Input**|**Output**    |\n",
    "|---------|--------------|\n",
    "|         |Waktu Tercepat: 48.7<br> Selisih Waktu Tercepat dan Rata-rata: -2.0|"
   ]
  },
  {
   "cell_type": "markdown",
   "metadata": {},
   "source": [
    "**c.** Dalam sebuah kompetisi, seorang juri ingin mengetahui total skor yang diperoleh tim A selama lima putaran pertandingan. Tampilkan rata-rata skor per putaran."
   ]
  },
  {
   "cell_type": "code",
   "execution_count": null,
   "metadata": {},
   "outputs": [],
   "source": [
    "# Data skor tim A dalam 5 putaran\n",
    "skor_tim_A = np.array([85, 78, 90, 88, 76])\n",
    "\n",
    "# Hitung total skor\n",
    "total_skor = None  \n",
    "\n",
    "# Hitung rata-rata skor per putaran\n",
    "rata_rata_skor = None  \n",
    "\n",
    "# Tampilkan total skor dan rata-ratanya\n",
    "print(\"Total Skor:\", total_skor)\n",
    "print(\"Rata-rata Skor per Putaran:\", rata_rata_skor)"
   ]
  },
  {
   "cell_type": "markdown",
   "metadata": {},
   "source": [
    "*Test case* program\n",
    "\n",
    "|**Input**|**Output**    |\n",
    "|---------|--------------|\n",
    "|         |Total Skor: 417<br> Rata-rata Skor per Putaran: 83.4|"
   ]
  },
  {
   "cell_type": "markdown",
   "metadata": {},
   "source": [
    "**d.** Seorang analis pasar saham ingin mengetahui rata-rata harga penutupan saham dari lima hari terakhir. Hitung rata-rata harga penutupan, dan tambahkan kode untuk membandingkan harga penutupan terakhir dengan rata-rata."
   ]
  },
  {
   "cell_type": "code",
   "execution_count": null,
   "metadata": {},
   "outputs": [],
   "source": [
    "# Data harga penutupan saham selama 5 hari \n",
    "harga_penutupan = np.array([150.5, 152.0, 148.7, 149.8, 151.2])\n",
    "\n",
    "# Hitung rata-rata harga penutupan\n",
    "rata_rata_harga = None  \n",
    "\n",
    "# Bandingkan harga penutupan terakhir dengan rata-rata\n",
    "perbandingan = None \n",
    "\n",
    "# Tampilkan rata-rata harga dan hasil perbandingannya\n",
    "print(\"Rata-rata Harga Penutupan:\", rata_rata_harga)\n",
    "print(\"Harga Penutupan Terakhir dibanding Rata-rata:\", perbandingan)"
   ]
  },
  {
   "cell_type": "markdown",
   "metadata": {},
   "source": [
    "*Test case* program\n",
    "\n",
    "|**Input**|**Output**    |\n",
    "|---------|--------------|\n",
    "|         |Rata-rata Harga Penutupan: 150.44<br> Harga Penutupan Terakhir dibanding Rata-rata: 0.7599999999999909|"
   ]
  },
  {
   "cell_type": "markdown",
   "metadata": {},
   "source": [
    "### 10. Transpose dan Reshape Array (Bobot Nilai: `10`)"
   ]
  },
  {
   "cell_type": "markdown",
   "metadata": {},
   "source": [
    "**a.** Seorang dosen ingin menampilkan data mahasiswa dalam format yang berbeda. Data saat ini disusun dalam bentuk baris, di mana setiap baris merepresentasikan mahasiswa. Anda diminta untuk membuat array tersebut sehingga data mahasiswa ditampilkan per kolom."
   ]
  },
  {
   "cell_type": "code",
   "execution_count": null,
   "metadata": {},
   "outputs": [],
   "source": [
    "# Data mahasiswa (Nama, NIM, Jurusan)\n",
    "data_mahasiswa = np.array([['Farah', 'Tiara', 'Imelda'], ['123', '456', '789'], ['IF', 'DS', 'RPL']])\n",
    "\n",
    "# Ubah data_mahasiswa\n",
    "data_1 = None\n",
    "\n",
    "print(\"Data mahasiswa:\")\n",
    "print(data_1)"
   ]
  },
  {
   "cell_type": "markdown",
   "metadata": {},
   "source": [
    "*Test case* program\n",
    "\n",
    "|**Input**|**Output**    |\n",
    "|---------|--------------|\n",
    "|         |Data mahasiswa:<br> [['Farah' '123' 'IF']<br> ['Tiara' '456' 'DS']<br> ['Imelda' '789' 'RPL']]|"
   ]
  },
  {
   "cell_type": "code",
   "execution_count": 2,
   "metadata": {},
   "outputs": [],
   "source": [
    "# Data nilai mahasiswa\n",
    "nilai = np.array([80, 90, 85, 78, 92, 88])\n",
    "\n",
    "# Bentuk ulang array nilai menjadi 2D dengan 3 kolom\n",
    "nilai_1 = None\n",
    "\n",
    "print(\"Array nilai:\")\n",
    "print(nilai_1)"
   ]
  },
  {
   "cell_type": "markdown",
   "metadata": {},
   "source": [
    "*Test case* program\n",
    "\n",
    "|**Input**|**Output**    |\n",
    "|---------|--------------|\n",
    "|         |Array nilai:<br> [[80 90 85]<br> [78 92 88]]|"
   ]
  },
  {
   "cell_type": "markdown",
   "metadata": {},
   "source": [
    "**c.** Sebuah perusahaan ingin menganalisis data penjualan dari berbagai cabang. Data saat ini ada dalam bentuk array 1D. Ubah array tersebut menjadi bentuk 2D dan transposisikan hasilnya agar data cabang dan produk lebih mudah dibaca."
   ]
  },
  {
   "cell_type": "code",
   "execution_count": null,
   "metadata": {},
   "outputs": [],
   "source": [
    "# Data penjualan: [Cabang A, Cabang B, Cabang A, Cabang B, Cabang A, Cabang B]\n",
    "penjualan = np.array([120, 150, 180, 100, 130, 170])\n",
    "\n",
    "# Ubah array \n",
    "penjualan_1 = None\n",
    "\n",
    "print(\"Data penjualan:\")\n",
    "print(penjualan_1)\n"
   ]
  },
  {
   "cell_type": "markdown",
   "metadata": {},
   "source": [
    "*Test case* program\n",
    "\n",
    "|**Input**|**Output**    |\n",
    "|---------|--------------|\n",
    "|         |Data penjualan:<br> [[120 180 130]<br>  [150 100 170]]|"
   ]
  },
  {
   "cell_type": "markdown",
   "metadata": {},
   "source": [
    "### 11. Soal Cerita (Bobot Nilai: `25`)"
   ]
  },
  {
   "cell_type": "markdown",
   "metadata": {},
   "source": [
    "Sebuah tim pelatih sedang mengevaluasi performa (indeks performa 6 - 10) tiga tim sepak bola selama 10 pertandingan. Statistik pertandingan disimpan dalam sebuah array yang merepresentasikan skor dari tiga tim (kolom) di setiap pertandingan (baris). Pelatih hanya tertarik pada pertandingan di mana rata-rata performa ketiga tim lebih dari atau sama dengan 7. Mereka ingin menganalisis lebih lanjut dengan menyalin data pertandingan tersebut, melakukan transpose pada data untuk melihat statistik dari perspektif tim, dan menghitung rata-rata performa tiap tim. Berikut adalah langkah-langkah yang perlu dilakukan:\n",
    "\n",
    "- Ambil subset data dari pertandingan, yang dimana rata-rata performa 3 tim pada hari yang sama memiliki nilai lebih dari atau sama denga 7\n",
    "- Buat salinan data untuk dianalisis lebih lanjut\n",
    "- *Transpose array* hasil salinan statistik\n",
    "- Ambil rata-rata performa tiap tim pada hari (baris) yang terdapat pada subset dari data pertandingan"
   ]
  },
  {
   "cell_type": "code",
   "execution_count": 6,
   "metadata": {},
   "outputs": [],
   "source": [
    "# Buat array yang merepresentasikan statistik 10 pertandingan (10x3)\n",
    "data_statistik = np.array([\n",
    "    [8, 8, 7], \n",
    "    [10, 7, 9], \n",
    "    [8, 8, 6], \n",
    "    [6, 7, 6], \n",
    "    [6, 6, 9], \n",
    "    [9, 6, 6], \n",
    "    [6, 6, 7], \n",
    "    [6, 7, 6], \n",
    "    [8, 9, 10], \n",
    "    [6, 7, 6]\n",
    "])\n",
    "\n",
    "# You’re on Your Own, Kid. Good Luck :)\n",
    "None"
   ]
  },
  {
   "cell_type": "markdown",
   "metadata": {},
   "source": [
    "*Test case* program\n",
    "\n",
    "|**Input**|**Output**    |\n",
    "|---------|--------------|\n",
    "|         |Data Statistik Asli:<br>[[ 8  8  7]<br>[10  7  9]<br>[ 8  8  6]<br>[ 6  7  6]<br>[ 6  6  9]<br>[ 9  6  6]<br>[ 6  6  7]<br>[ 6  7  6]<br>[ 8  9 10]<br>[ 6  7  6]]<br>Subset Data Statistik:<br>[[ 8  8  7]<br>[10  7  9]<br>[ 8  8  6]<br>[ 6  6  9]<br>[ 9  6  6]<br>[ 8  9 10]]<br>Data Setelah Di-transpose:<br>[[ 8 10  8  6  9  8]<br>[ 8  7  8  6  6  9]<br>[ 7  9  6  9  6 10]]<br>Rata - Rata Performa Team A:  8.166666666666666<br>Rata - Rata Performa Team B:  7.333333333333333<br>Rata - Rata Performa Team C:  7.833333333333333|"
   ]
  }
 ],
 "metadata": {
  "kernelspec": {
   "display_name": "Python 3",
   "language": "python",
   "name": "python3"
  },
  "language_info": {
   "codemirror_mode": {
    "name": "ipython",
    "version": 3
   },
   "file_extension": ".py",
   "mimetype": "text/x-python",
   "name": "python",
   "nbconvert_exporter": "python",
   "pygments_lexer": "ipython3",
   "version": "3.12.5"
  }
 },
 "nbformat": 4,
 "nbformat_minor": 2
}
