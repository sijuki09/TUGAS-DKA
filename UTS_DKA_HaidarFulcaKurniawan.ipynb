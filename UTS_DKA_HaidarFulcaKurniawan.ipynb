{
 "cells": [
  {
   "cell_type": "markdown",
   "metadata": {},
   "source": [
    "<div align='center'>\n",
    "    <h1>Jurnal Praktikum Dasar Kecerdasan Artifisial</h1>\n",
    "    <h3>Modul 11: Asesmen Praktikum Tengah Semseter</h3>\n",
    "</div>"
   ]
  },
  {
   "cell_type": "markdown",
   "metadata": {},
   "source": [
    "**Jangan lupa untuk selalup *import library* yang digunakan ketika memulai sesi baru (*run time*) atau kode Python yang memerlukan *library***."
   ]
  },
  {
   "cell_type": "code",
   "execution_count": null,
   "metadata": {},
   "outputs": [],
   "source": [
    "# Import library yang digunakan\n",
    "import matplotlib.pyplot as plt\n",
    "# Library untuk membuat graf\n",
    "import networkx as nx \n"
   ]
  },
  {
   "cell_type": "code",
   "execution_count": 5,
   "metadata": {},
   "outputs": [
    {
     "name": "stdout",
     "output_type": "stream",
     "text": [
      "Haidar Fulca Kurniawan\n",
      "1203230077\n",
      "IF-03-02\n",
      "\n"
     ]
    }
   ],
   "source": [
    "print(\"Haidar Fulca Kurniawan\")  # Tuliskan nama lengkap Anda\n",
    "print(\"1203230077\")  # Tuliskan NIM Anda\n",
    "print(\"IF-03-02\")  # Tuliskan kelas Anda\n",
    "print(\"\") # Tuliskan kode asprak anda"
   ]
  },
  {
   "cell_type": "markdown",
   "metadata": {},
   "source": [
    "### 1. Penjelajahan Kota untuk Rute Transportasi dan Pariwisata"
   ]
  },
  {
   "cell_type": "markdown",
   "metadata": {},
   "source": [
    "### Fungsi pendukung untuk mencetak graf \n",
    "\n",
    "#### **!! Tidak usah dimodifikasi !!**"
   ]
  },
  {
   "cell_type": "code",
   "execution_count": 6,
   "metadata": {},
   "outputs": [],
   "source": [
    "# Data posisi untuk masing-masing node agar lebih rapi saat ditampilkan\n",
    "pos = {\n",
    "    \"A\": (0, 4),\n",
    "    \"B\": (-3, 2),\n",
    "    \"C\": (3, 2),\n",
    "    \"D\": (-4, 0),\n",
    "    \"E\": (0, 0),\n",
    "    \"F\": (4, -1),\n",
    "    \"G\": (0, -3)\n",
    "}\n"
   ]
  },
  {
   "cell_type": "code",
   "execution_count": 8,
   "metadata": {},
   "outputs": [],
   "source": [
    "# Fungsi pendukung untuk mencetak graf\n",
    "def show_graph(G, pos=None, title='') :\n",
    "    # Membuat pos jika pos tidak diberikan\n",
    "    if pos is None:\n",
    "        pos = nx.spring_layout(G)\n",
    "\n",
    "    # Fungsi untuk menggambar node\n",
    "    nx.draw(\n",
    "        G,                  # Graf NetworkX\n",
    "        pos,                # Posisi node\n",
    "        with_labels=True,   # Menampilkan nama node \n",
    "        node_color='red',   # Warna node\n",
    "        node_size=2000,     # Ukuran node\n",
    "        font_color=\"white\", # Warna font label node\n",
    "        font_weight=\"bold\", # Ketebalan font label node\n",
    "        width=5             # Ketebalan garis edge\n",
    "    )\n",
    "\n",
    "    # Mengambil label edge jika ada weight\n",
    "    edge_labels = nx.get_edge_attributes(G, 'weight')  \n",
    "    # Fungsi untuk menggambar node\n",
    "    nx.draw_networkx_edge_labels(\n",
    "        G,\n",
    "        pos,\n",
    "        edge_labels=edge_labels, # Data weight\n",
    "        font_color='blue',       # Warna font label edge\n",
    "        font_weight=\"bold\",      # Berat font label edge\n",
    "        font_size=16,            # Ukuran font label edge\n",
    "    )\n",
    "\n",
    "    plt.margins(0.2)  # Memberikan margin pada plot\n",
    "    plt.title(title)  # Menampilkan judul graf jika diberikan\n",
    "    plt.show()        # Menampilkan graf menggunakan matplotlib\n",
    "\n",
    "    \n"
   ]
  },
  {
   "cell_type": "markdown",
   "metadata": {},
   "source": [
    "Dina adalah seorang manajer transportasi di sebuah kota wisata besar. Kota ini terdiri dari beberapa wisata terkenal, yang dihubungkan oleh jalan-jalan yang dirancang untuk memudahkan para tulis mengunjungi tempat-tempat menarik. Dina ingin membantu wisatawan menjelajahi kota dengan dua cara berbeda:\n",
    "\n",
    "**Transportasi Terdekat Terlebih Dahulu (Memanfaatkan algoritma BFS)** :\n",
    "- Dina ingin menemukan rute tercepat untuk mengunjungi lokasi-lokasi terdekat terlebih dahulu. Dengan cara ini, para wisatawan bisa mengikuti rute yang lebih teratur dan lebih cepat dalam menjangkau tempat-tempat yang dekat satu sama lain.\n",
    "\n",
    "**Jalur lokasi wisata**\n",
    "\n",
    "Kota ini memiliki 7 lokasi wisata (A, B, C, D, E, F, G) yang dihubungkan oleh jalur berikut:\n",
    "- `A` terhubung ke `B` dan `C`\n",
    "- `B` terhubung ke `D` dan `E`\n",
    "- `C` terhubung ke `F`\n",
    "- `D` terhubung ke `G`\n",
    "- `F` terhubung ke `G`\n",
    "\n",
    "Bantu Dina untuk membuat rute yang optimal untuk setiap cara menjelajahi dengan langkah-langkah berikut:"
   ]
  },
  {
   "cell_type": "markdown",
   "metadata": {},
   "source": [
    "**a.** Inisialisasi graf bernama `wisata` menggunakan **graf tidak berarah** untuk menunjukkan arah perjalanan."
   ]
  },
  {
   "cell_type": "code",
   "execution_count": 12,
   "metadata": {},
   "outputs": [],
   "source": [
    "wisata = nx.Graph()  "
   ]
  },
  {
   "cell_type": "markdown",
   "metadata": {},
   "source": [
    "**b.** Tambahkan node untuk merepresentasikan setiap titik wisata yang terdapat dalam kota tersebut."
   ]
  },
  {
   "cell_type": "code",
   "execution_count": 15,
   "metadata": {},
   "outputs": [
    {
     "data": {
      "image/png": "[encoded data removed]",
      "text/plain": [
       "<Figure size 640x480 with 1 Axes>"
      ]
     },
     "metadata": {},
     "output_type": "display_data"
    }
   ],
   "source": [
    "# List daftar nama wisata\n",
    "nodes = [\"A\", \"B\", \"C\", \"D\", \"E\", \"F\", \"G\"]\n",
    "\n",
    "# Tambahkan node dari list variabel `nodes` pada graf wisata\n",
    "wisata.add_nodes_from (nodes)\n",
    "\n",
    "# Tampilkan graf kota setelah penambahan node\n",
    "show_graph(wisata, pos, \"Graf Kota Wisata\")"
   ]
  },
  {
   "cell_type": "markdown",
   "metadata": {},
   "source": [
    "Contoh *output*:\n",
    "\n",
    "![Add Node Wisata](./asset/1_tambah_node_wisatas.png)"
   ]
  },
  {
   "cell_type": "markdown",
   "metadata": {},
   "source": [
    "**c.** Pada graf wisata, setiap edge mewakili jalan yang menghubungkan antar tempat wisata. Tugas anda adalah menambahkan edge ke dalam graf untuk setiap hubungan lokasi antar tempat wisata. "
   ]
  },
  {
   "cell_type": "code",
   "execution_count": 16,
   "metadata": {},
   "outputs": [
    {
     "data": {
      "image/png": "[encoded data removed]",
      "text/plain": [
       "<Figure size 640x480 with 1 Axes>"
      ]
     },
     "metadata": {},
     "output_type": "display_data"
    }
   ],
   "source": [
    "# Daftar hubungan edge yang menghubungkan jalan pada temapt wisata\n",
    "edge=[\n",
    "    (\"A\", \"B\"),\n",
    "    (\"A\", \"C\"),\n",
    "    (\"B\", \"D\"),\n",
    "    (\"B\", \"E\"),\n",
    "    (\"C\", \"F\"),\n",
    "    (\"D\", \"G\"),\n",
    "    (\"F\", \"G\")\n",
    "]\n",
    "\n",
    "# Tambahken edge ke dalam graf wisata\n",
    "wisata.add_edges_from(edge)\n",
    "\n",
    "# Graf wisata setelah penambahan edges\n",
    "show_graph(wisata, pos, \"Graf Kota Wisata\")"
   ]
  },
  {
   "cell_type": "markdown",
   "metadata": {},
   "source": [
    "Contoh *output*:\n",
    "\n",
    "![Tambah Edge Wisata](./asset/2_tambah_edge_wisatas.png)"
   ]
  },
  {
   "cell_type": "markdown",
   "metadata": {},
   "source": [
    "**d.** Gunakan algoritma **BFS** untuk menentukan rute dari **A** ke seluruh lokasi wisata. Tampilkan urutan kunjungan yang dihasilkan oleh **BFS**.\n",
    "\n",
    "Tip: Gunakan `nx.bfs_edges()`."
   ]
  },
  {
   "cell_type": "code",
   "execution_count": 17,
   "metadata": {},
   "outputs": [
    {
     "name": "stdout",
     "output_type": "stream",
     "text": [
      "Urutan tempat wisiata yang dikunjungi dengan algoritma BFS:\n",
      "1. A - B\n",
      "2. A - C\n",
      "3. B - D\n",
      "4. B - E\n",
      "5. C - F\n",
      "6. D - G\n"
     ]
    }
   ],
   "source": [
    "print(\"Urutan tempat wisiata yang dikunjungi dengan algoritma BFS:\")\n",
    "i = 1 # Inisialisasi variabel untuk urutan kunjungan\n",
    "\n",
    "# Loop melalui setiap edge yang dihasilkan dari BFS yang dimulai dari node A\n",
    "for u, v in nx.bfs_edges(wisata, \"A\"):\n",
    "\n",
    "    # Mencetak kunjungan dengan format asal - tujuan\n",
    "    print(f\"{i}. {u} - {v}\")\n",
    "    # Increment nomor urut\n",
    "    i += 1"
   ]
  },
  {
   "cell_type": "markdown",
   "metadata": {},
   "source": [
    "Contoh *output*:\n",
    "\n",
    "Urutan tempat wisiata yang dikunjungi dengan algoritma BFS:\n",
    "1. A - B\n",
    "2. A - C\n",
    "3. B - D\n",
    "4. B - E\n",
    "5. C - F\n",
    "6. D - G"
   ]
  },
  {
   "cell_type": "markdown",
   "metadata": {},
   "source": [
    "### 2. Optimalisasi Rute Pengiriman Barang dengan Biaya Terendah"
   ]
  },
  {
   "cell_type": "markdown",
   "metadata": {},
   "source": [
    "Rina adalah seorang manajer logistik di sebuah perusahaan ekspedisi yang beroperasi di sebuah kota besar. Kota tersebut memiliki beberapa titik pengiriman utama yang terhubung oleh berbagai jalan. Setiap jalan memiliki biaya tertentu yang tergantu pada jarak dan kondisi jalan.\n",
    "\n",
    "Rina ingin menemukan rute pengiriman barang dengan biaya terendah dari gedung pusat (Lokasi `A`) ke titik pengiriman (Lokasi `G`). Rina perlu menggunakan metode yang mempertimbangkan biaya total perjalanan tanpa memperhatikan jumlah jalan yang dilalui.\n",
    "\n",
    "kota tersebut terdiri dari 7 titik pengiriman (A, B, C, D, E, F, G) dengan biaya perjalanan antar titik sebagai berikut:\n",
    "- A ke B: biaya 4\n",
    "- A ke C: biaya 3\n",
    "- B ke D: biaya 5\n",
    "- B ke E: biaya 7\n",
    "- C ke F: biaya 2\n",
    "- D ke G: biaya 6\n",
    "- E ke G: biaya 9\n",
    "- F ke G: biaya 3\n",
    "\n",
    "Bantu Rina mengimplementasikan algoritma ***Uniform Cost Search (UCS)*** untuk menemukan rute dengan biaya terendah dari titik `A` ke titik `G` dengan melakukan langkah berikut:"
   ]
  },
  {
   "cell_type": "markdown",
   "metadata": {},
   "source": [
    "### Fungsi pendukung untuk mencetak graf \n",
    "\n",
    "#### **!! Tidak usah dimodifikasi !!**"
   ]
  },
  {
   "cell_type": "code",
   "execution_count": 18,
   "metadata": {},
   "outputs": [],
   "source": [
    "# Data posisi untuk masing-masing node agar lebih rapi saat ditampilkan\n",
    "pos = {\n",
    "    \"A\": (0, 4),\n",
    "    \"B\": (-3, 2),\n",
    "    \"C\": (3, 2),\n",
    "    \"D\": (-4, 0),\n",
    "    \"E\": (0, 0),\n",
    "    \"F\": (4, -1),\n",
    "    \"G\": (0, -3)\n",
    "}"
   ]
  },
  {
   "cell_type": "code",
   "execution_count": 19,
   "metadata": {},
   "outputs": [],
   "source": [
    "# Fungsi pendukung untuk mencetak graf\n",
    "def show_graph(G, pos=None, title='') :\n",
    "  # Membuat pos jika pos tidak diberikan\n",
    "  if pos is None:\n",
    "      pos = nx.spring_layout(G)\n",
    "  \n",
    "  # Fungsi untuk menggambar node\n",
    "  nx.draw(\n",
    "      G,                  # Graf NetworkX\n",
    "      pos,                # Posisi node\n",
    "      with_labels=True,   # Menampilkan nama node \n",
    "      node_color='red',   # Warna node\n",
    "      node_size=2000,     # Ukuran node\n",
    "      font_color=\"white\", # Warna font label node\n",
    "      font_weight=\"bold\", # Ketebalan font label node\n",
    "      width=3             # Ketebalan garis edge\n",
    "  )\n",
    "\n",
    "  # Mengambil label edge jika ada weight\n",
    "  edge_labels = nx.get_edge_attributes(G, 'weight')  \n",
    "  # Fungsi untuk menggambar node\n",
    "  nx.draw_networkx_edge_labels(\n",
    "      G,\n",
    "      pos,\n",
    "      edge_labels=edge_labels, # Data weight\n",
    "      font_color='blue',       # Warna font label edge\n",
    "      font_size=12,            # Ukuran font label edge\n",
    "  )\n",
    "\n",
    "  plt.margins(0.2)  # Memberikan margin pada plot\n",
    "  plt.title(title)  # Menampilkan judul graf jika diberikan\n",
    "  plt.show()  "
   ]
  },
  {
   "cell_type": "markdown",
   "metadata": {},
   "source": [
    "**a.** Inisialisasi graf bernama `titik_pengiriman` menggunakan **graf tidak berarah**."
   ]
  },
  {
   "cell_type": "code",
   "execution_count": 20,
   "metadata": {},
   "outputs": [],
   "source": [
    "# Inisialisasi graf tidak berarah\n",
    "pengiriman = nx.Graph()"
   ]
  },
  {
   "cell_type": "markdown",
   "metadata": {},
   "source": [
    "**b.** Tambahkan node untuk merepresentasikan setiap titik pengiriman."
   ]
  },
  {
   "cell_type": "code",
   "execution_count": 21,
   "metadata": {},
   "outputs": [
    {
     "data": {
      "image/png": "[encoded data removed]",
      "text/plain": [
       "<Figure size 640x480 with 1 Axes>"
      ]
     },
     "metadata": {},
     "output_type": "display_data"
    }
   ],
   "source": [
    "# List daftar nama titik pengiriman\n",
    "nodes = [\"A\", \"B\", \"C\", \"D\", \"E\", \"F\", \"G\"]\n",
    "\n",
    "# Tambahkan node dari list variabel `nodes` pada graf titik_pengiriman\n",
    "pengiriman.add_nodes_from (nodes)\n",
    "\n",
    "# Tampilkan graf kota setelah penambahan node\n",
    "show_graph(pengiriman, pos, \"Graf Titik Pengiriman\")"
   ]
  },
  {
   "cell_type": "markdown",
   "metadata": {},
   "source": [
    "Contoh *output*:\n",
    "\n",
    "![Tambah node pengiriman](./asset/3_tambah_node_pengirimans.png)"
   ]
  },
  {
   "cell_type": "markdown",
   "metadata": {},
   "source": [
    "**c.** Pada graf titik_pengiriman, edge mewakili biaya pengiriman dari satu titik ke titik lainnya. Tugas anda adalah menambahkan edge dari setiap titik pengiriman yang sudah ditentukan untuk melihat biaya pengiriman dari satu titik ke titik lain."
   ]
  },
  {
   "cell_type": "code",
   "execution_count": 24,
   "metadata": {},
   "outputs": [
    {
     "data": {
      "image/png": "[encoded data removed]",
      "text/plain": [
       "<Figure size 640x480 with 1 Axes>"
      ]
     },
     "metadata": {},
     "output_type": "display_data"
    }
   ],
   "source": [
    "# Daftar biaya pengiriman antara dua titik\n",
    "edge = [\n",
    "    (\"A\", \"B\", 4),\n",
    "    (\"A\", \"C\", 3),\n",
    "    (\"B\", \"D\", 5),\n",
    "    (\"B\", \"E\", 7),\n",
    "    (\"C\", \"F\", 2),\n",
    "    (\"D\", \"G\", 6),\n",
    "    (\"E\", \"G\", 9),\n",
    "    (\"F\", \"G\", 3)\n",
    "]\n",
    "\n",
    "# Tambahkan biaya pengiriman ke dalam graf titik_pengiriman\n",
    "for u, v, w in edge:\n",
    "    pengiriman.add_edge(u, v, weight=w)\n",
    "\n",
    "# Tampilkan graf titik_pengiriman setelah penambahan edge\n",
    "show_graph(pengiriman, pos, \"Graf Titik Pengiriman\")"
   ]
  },
  {
   "cell_type": "markdown",
   "metadata": {},
   "source": [
    "Contoh *output*:\n",
    "\n",
    "![Tambah Edge Pengiriman](./asset/4_tambah_edge_pengirimans.png)"
   ]
  },
  {
   "cell_type": "markdown",
   "metadata": {},
   "source": [
    "**d.** Pada potongan kode dibawah, buat fungsi `heuristable(a, b)`. Karena UCS tidak memperhatikan nilai heuristik, maka cukup kembalikan 0."
   ]
  },
  {
   "cell_type": "code",
   "execution_count": 30,
   "metadata": {},
   "outputs": [],
   "source": [
    "def heuristable (a,b):\n",
    "    return 0"
   ]
  },
  {
   "cell_type": "markdown",
   "metadata": {},
   "source": [
    "**e.** Pada potongan kode dibawah, buat kode untuk menemukan rute terpendek dengan mempertimbangkan jarak total antara lokasi awal dan lokasi tujuan yang dimasukkan oleh pengguna.\n",
    "\n",
    "Dalam proses pencarian rute, gunakan algoritma ***Uniform Cost Seaerch (UCS)*** yang diimplementasikan menggunakan `nx.astar_path()` pada NetworkX dengan nilai heuristik 0 yang sudah didefinisikan pada fungsi `heuristable()`.\n",
    "\n",
    "Kemudian tampilkan rute dengan biaya terkecil antara titik `A` ke `G` serta tampilkan juga besar jarak yang ditempuh dari titik awal ke titik tujuan tersebut."
   ]
  },
  {
   "cell_type": "code",
   "execution_count": 31,
   "metadata": {},
   "outputs": [
    {
     "name": "stdout",
     "output_type": "stream",
     "text": [
      "Titik yang dikunjungi dari A ke G: ['A', 'C', 'F', 'G']\n",
      "Besar biaya yang dikeluarkan: 8\n"
     ]
    }
   ],
   "source": [
    "# Mencari titik yang dikunjungi dari A ke G\n",
    "path_node = nx.astar_path(pengiriman, \"A\", \"G\", heuristic=heuristable, weight='weight')\n",
    "\n",
    "# Menghitung biaya dari titik awal ke titik tujuan\n",
    "path_length = nx.astar_path_length(pengiriman, \"A\", \"G\", heuristic=heuristable, weight='weight')\n",
    "\n",
    "# Cetak hasil\n",
    "print(f\"Titik yang dikunjungi dari A ke G: {path_node}\")\n",
    "print(f\"Besar biaya yang dikeluarkan: {path_length}\")\n"
   ]
  },
  {
   "cell_type": "markdown",
   "metadata": {},
   "source": [
    "Contoh *output*:\n",
    "\n",
    "Titik yang dikunjungi dari A ke G: ['A', 'C', 'F', 'G']\n",
    "\n",
    "Besar biaya yang dikeluarkan adalah: 8"
   ]
  }
 ],
 "metadata": {
  "kernelspec": {
   "display_name": "Python 3",
   "language": "python",
   "name": "python3"
  },
  "language_info": {
   "codemirror_mode": {
    "name": "ipython",
    "version": 3
   },
   "file_extension": ".py",
   "mimetype": "text/x-python",
   "name": "python",
   "nbconvert_exporter": "python",
   "pygments_lexer": "ipython3",
   "version": "3.13.2"
  }
 },
 "nbformat": 4,
 "nbformat_minor": 2
}
