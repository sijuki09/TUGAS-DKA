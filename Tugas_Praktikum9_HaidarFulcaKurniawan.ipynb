{
 "cells": [
  {
   "cell_type": "markdown",
   "metadata": {},
   "source": [
    "<div align='center'>\n",
    "    <h1>Jurnal Praktikum Dasar Kecerdasan Artifisial</h1>\n",
    "    <h3>Modul 9: Implementasi Greedy BFS</h3>\n",
    "</div>"
   ]
  },
  {
   "cell_type": "markdown",
   "metadata": {},
   "source": [
    "### Tujuan Praktikum\n",
    "- Mahasiswa mampu memahami dan mengimplementasikan algoritma *Greedy Best-First Search* pada Python dengan menggunakan *library* NetworkX."
   ]
  },
  {
   "cell_type": "markdown",
   "metadata": {},
   "source": [
    "**Jangan lupa untuk selalu import *library* NetworkX ketika memulai sesi baru (run time) atau kode Python yang memerlukan penggunaan *library* NetworkX.**"
   ]
  },
  {
   "cell_type": "markdown",
   "metadata": {},
   "source": [
    "### Import *Library* NetworkX dan Matplotlib\n",
    "\n",
    "*Library* Matplotlib digunakan untuk membantu menampilkan visualisasi graf pada terminal."
   ]
  },
  {
   "cell_type": "code",
   "execution_count": 38,
   "metadata": {},
   "outputs": [],
   "source": [
    "import networkx as nx # Library untuk membuat graf\n",
    "import matplotlib.pyplot as plt # Library untuk visualisasi"
   ]
  },
  {
   "cell_type": "markdown",
   "metadata": {},
   "source": [
    "### Fungsi pendukung untuk mencetak graf \n",
    "\n",
    "#### **!! Tidak usah dimodifikasi !!**"
   ]
  },
  {
   "cell_type": "code",
   "execution_count": 39,
   "metadata": {},
   "outputs": [],
   "source": [
    "# Posisi Nodes\n",
    "pos = {\n",
    "    'Pintu Masuk': (0, 0),\n",
    "    'Wahana A': (1, 2),\n",
    "    'Wahana B': (1, -2),\n",
    "    'Wahana C': (3, 0),\n",
    "    'Wahana D': (4, -2),\n",
    "    'Wahana Menarik': (5, 0)\n",
    "}"
   ]
  },
  {
   "cell_type": "code",
   "execution_count": 41,
   "metadata": {},
   "outputs": [],
   "source": [
    "# Fungsi pendukung untuk mencetak graf\n",
    "def show_graph(G, pos=None, title='') :\n",
    "  # Membuat pos jika pos tidak diberikan\n",
    "  if pos is None:\n",
    "      pos = nx.spring_layout(G)\n",
    "  \n",
    "  # Fungsi untuk menggambar node\n",
    "  nx.draw(\n",
    "      G,                  # Graf NetworkX\n",
    "      pos,                # Posisi node\n",
    "      with_labels=True,   # Menampilkan nama node \n",
    "      node_color='red',   # Warna node\n",
    "      node_size=4000,     # Ukuran node\n",
    "      font_color=\"white\", # Warna font label node\n",
    "      font_size=10,\n",
    "      width=5             # Ketebalan garis edge\n",
    "  )\n",
    "\n",
    "  # Mengambil label edge jika ada weight\n",
    "  edge_labels = nx.get_edge_attributes(G, 'weight')  \n",
    "  # Fungsi untuk menggambar node\n",
    "  nx.draw_networkx_edge_labels(\n",
    "      G,\n",
    "      pos,\n",
    "      edge_labels=edge_labels, # Data weight\n",
    "      font_color='blue',       # Warna font label edge\n",
    "      font_weight=\"bold\",      # Berat font label edge\n",
    "      font_size=16,            # Ukuran font label edge\n",
    "  )\n",
    "\n",
    "  plt.margins(0.2)  # Memberikan margin pada plot\n",
    "  plt.title(title)  # Menampilkan judul graf jika diberikan\n",
    "  plt.show()  "
   ]
  },
  {
   "cell_type": "markdown",
   "metadata": {},
   "source": [
    "### 1. Implementasi Greedy BFS pada *Weighted Undirected Graph* (Bobot Nilai: `35`)\n",
    "\n",
    "Di sebuah taman hiburan terdapat beberapa wahana yang terhubung dengan jalan setapak. Setiap wahana memiliki nama dan jarak tertentu satu sama lain. DI taman hiburan tersebut, seorang pengunjung ingin mencoba wahana yang paling menarik, tetapi ia ingin menggunkaan jalur terpendek untuk smapai ke sana. Pengunjung tersebut memulai perjalanannya dari pintu masuk utama.\n",
    "\n",
    "Setiap wahana memiliki informasi jarak ke wahana-wahana lainnya yang terhubung langsung. Bantu pengunjung untuk menemukan `wahana menarik` dengan algoritma *Greedy Best-First Search* dengan melakukan langkah-langkah berikut."
   ]
  },
  {
   "cell_type": "markdown",
   "metadata": {},
   "source": [
    "**a.** Inisialisasi graf bernama `taman_hiburan` menggunakan **graf tidak berarh**."
   ]
  },
  {
   "cell_type": "code",
   "execution_count": 42,
   "metadata": {},
   "outputs": [],
   "source": [
    "# Inisialisasi graf tidak berarah\n",
    "taman_hiburan = nx.Graph()"
   ]
  },
  {
   "cell_type": "markdown",
   "metadata": {},
   "source": [
    "**b.** Tambahkan node untuk merepresentasikan setiap wahana di taman hiburan tersebut. Nama wahana adalah sebagai berikut :\n",
    "- `Pintu Masuk`\n",
    "- `Wahana A`\n",
    "- `Wahana B`\n",
    "- `Wahana C`\n",
    "- `Wahana D`\n",
    "- `Wahana Menarik`"
   ]
  },
  {
   "cell_type": "code",
   "execution_count": 43,
   "metadata": {},
   "outputs": [
    {
     "data": {
      "image/png": "[encoded data removed]",
      "text/plain": [
       "<Figure size 640x480 with 1 Axes>"
      ]
     },
     "metadata": {},
     "output_type": "display_data"
    }
   ],
   "source": [
    "# List daftar nama wahana di dalam taman hiburan\n",
    "nodes = [\n",
    "    'Pintu Masuk',\n",
    "    'Wahana A',\n",
    "    'Wahana B',\n",
    "    'Wahana C',\n",
    "    'Wahana D',\n",
    "    'Wahana Menarik'\n",
    "]\n",
    "\n",
    "# Tambahkan node dari list `nodes` pada graf taman_hiburan\n",
    "taman_hiburan.add_nodes_from(nodes)\n",
    "\n",
    "# Tampilkan graf taman_hiburan setelah penambahan node\n",
    "show_graph(taman_hiburan, pos=pos, title='Graf Taman Hiburan')"
   ]
  },
  {
   "cell_type": "markdown",
   "metadata": {},
   "source": [
    "Contoh *output*:\n",
    "\n",
    "![Add Nodes Taman Hiburan](./asset/1_add_nodes_taman_hiburan.png)"
   ]
  },
  {
   "cell_type": "markdown",
   "metadata": {},
   "source": [
    "**c.** Berikut adalah jarak antar wahana pada taman hiburan\n",
    "\n",
    "- `Pintu Masuk` ke `Wahana A` -> 400m\n",
    "- `Pintu Masuk` ke `Wahana B` -> 200m\n",
    "- `Wahana A` ke `Wahana C` -> 500m\n",
    "- `Wahana B` ke `Wahana C` -> 100m\n",
    "- `Wahana C` ke `Wahana Menarik` -> 300m\n",
    "- `Wahana D` ke `Wahana Menarik` -> 200m\n",
    "\n",
    "**Pada Greedy BFS, jarak sebenarnya tidak diperhatikan, maka seluruh jarak diubah menjadi 0**\n",
    "\n",
    "Tambahkan informasi jarak antar wahana sebagai edge pada graf `taman_hiburan`"
   ]
  },
  {
   "cell_type": "code",
   "execution_count": 48,
   "metadata": {},
   "outputs": [
    {
     "data": {
      "image/png": "[encoded data removed]",
      "text/plain": [
       "<Figure size 640x480 with 1 Axes>"
      ]
     },
     "metadata": {},
     "output_type": "display_data"
    }
   ],
   "source": [
    "# Daftar jarak antara dua wahana pada taman hiburan\n",
    "edges = [\n",
    "    ('Pintu Masuk', 'Wahana A', 400),\n",
    "    ('Pintu Masuk', 'Wahana B', 200),\n",
    "    ('Wahana A', 'Wahana C', 500),\n",
    "    ('Wahana B', 'Wahana C', 100),\n",
    "    ('Wahana C', 'Wahana Menarik', 300),\n",
    "    ('Wahana D', 'Wahana Menarik', 200)\n",
    "]\n",
    "\n",
    "# Tambahkan jarak yang menghubungkan antara dua wahana dalam fraf taman_hiburan\n",
    "taman_hiburan.add_weighted_edges_from(edges)    \n",
    "\n",
    "# Tampilkan graf taman_hiburan setelah penambahan edge\n",
    "show_graph(taman_hiburan, pos=pos, title='Graf Taman Hiburan')"
   ]
  },
  {
   "cell_type": "markdown",
   "metadata": {},
   "source": [
    "Contoh *output*:\n",
    "\n",
    "![Add edges Taman Hubyran](./asset/2_add_edges_taman_hiburan.png)"
   ]
  },
  {
   "cell_type": "markdown",
   "metadata": {},
   "source": [
    "**d.** Sekarang, evaluasi elemen pada graf `taman_hiburan` yang sudah dibuat. Tampilkan hal berikut :\n",
    "- Daftar wahana pada graf yang diwakili oleh node.\n",
    "- Daftar wahana apa saja yang terhubung yang diwakili oleh edge.\n",
    "- Jumlah wahana pada graf."
   ]
  },
  {
   "cell_type": "code",
   "execution_count": 49,
   "metadata": {},
   "outputs": [
    {
     "name": "stdout",
     "output_type": "stream",
     "text": [
      "Elemen pada Graf:\n",
      "Wahana yang terdapat pada taman hiburan: ['Pintu Masuk', 'Wahana A', 'Wahana B', 'Wahana C', 'Wahana D', 'Wahana Menarik']\n",
      "Daftar wahana yang terhubung: [('Pintu Masuk', 'Wahana A'), ('Pintu Masuk', 'Wahana B'), ('Wahana A', 'Wahana C'), ('Wahana B', 'Wahana C'), ('Wahana C', 'Wahana Menarik'), ('Wahana D', 'Wahana Menarik')]\n",
      "Jumlah wahana pada taman hiburan: 6\n"
     ]
    }
   ],
   "source": [
    "print(\"Elemen pada Graf:\")\n",
    "\n",
    "# Mencetak daftar node pada graf\n",
    "print(\"Wahana yang terdapat pada taman hiburan:\", taman_hiburan.nodes)\n",
    "\n",
    "# Mencetak daftar edge pada graf\n",
    "print(\"Daftar wahana yang terhubung:\", taman_hiburan.edges)\n",
    "\n",
    "# Mencetak jumlah node\n",
    "print(\"Jumlah wahana pada taman hiburan:\", len(taman_hiburan.nodes()))"
   ]
  },
  {
   "cell_type": "markdown",
   "metadata": {},
   "source": [
    "Contoh *output*:\n",
    "\n",
    "Elemen pada Graf:\n",
    "Wahana yang terdapat pada taman hiburan: ['Pintu Masuk', 'Wahana A', 'Wahana B', 'Wahana C', 'Wahana D', 'Wahana Menarik']\n",
    "\n",
    "Daftar wahana yang terhubung: [('Pintu Masuk', 'Wahana A'), ('Pintu Masuk', 'Wahana B'), ('Wahana A', 'Wahana C'), ('Wahana B', 'Wahana C'), ('Wahana B', 'Wahana D'), ('Wahana C', 'Wahana Menarik'), ('Wahana D', 'Wahana Menarik')]\n",
    "\n",
    "Jumlah wahana pada taman hiburan: 6"
   ]
  },
  {
   "cell_type": "markdown",
   "metadata": {},
   "source": [
    "**e.** Membuat fungsi heursitik.\n",
    "\n",
    "Fungsi heursitik digunakan untuk memperkirakan jarak yang harus ditempuh dari suatu node ke tujuan akhir. Algoritma Greedy BFS akan memilih node berdasarkan nilai heuristik terendah.\n",
    "\n",
    "Berikut adalah nilai heuristik setiap wahana yang terdapat pada graf `taman_hiburan`:\n",
    "|Nama Wahana|Nilai Heuristik|\n",
    "|-----------|---------------|\n",
    "|Pintu Masuk|600m|\n",
    "|Wahana A|500m|\n",
    "|Wahana B|400m|\n",
    "|Wahana C|300m|\n",
    "|Wahana D|200m|\n",
    "|Wahana Menarik|0m|\n",
    "\n",
    "Buat fungsi untuk menghitung nilai heuristik dengan nama `heuristable()`"
   ]
  },
  {
   "cell_type": "code",
   "execution_count": 50,
   "metadata": {},
   "outputs": [],
   "source": [
    "# Fungsi untuk menghitung nilai heuristik setiap node\n",
    "def heuristable(a, b):\n",
    "    if a == 'Pintu Masuk':\n",
    "        return 600\n",
    "    elif a == 'Wahana A':\n",
    "        return 500\n",
    "    elif a == 'Wahana B':\n",
    "        return 400\n",
    "    elif a == 'Wahana C':\n",
    "        return 300\n",
    "    elif a == 'Wahana D':\n",
    "        return 200\n",
    "    elif a == 'Wahana Menarik':\n",
    "        return 0\n",
    "    else:\n",
    "        return float('inf')  # jika node tidak dikenali"
   ]
  },
  {
   "cell_type": "markdown",
   "metadata": {},
   "source": [
    "**f.** Sekarang, tentukan jalur yang dilewati dari `Pintu Masuk` ke `Wahana Menarik` menggunakan algoritma Greedy BFS dan tampilkan urutan wahana yang dikunjungi serta jarak yang ditempuh.\n",
    "\n",
    "Tip :\n",
    "Gunakan bantuan function `nx_astar_path()`"
   ]
  },
  {
   "cell_type": "code",
   "execution_count": 51,
   "metadata": {},
   "outputs": [
    {
     "name": "stdout",
     "output_type": "stream",
     "text": [
      "Wahana yang dikunjungi dari Pintu Masuk ke Wahana Menarik adalah: ['Pintu Masuk', 'Wahana B', 'Wahana C', 'Wahana Menarik']\n",
      "Jarak yang ditempuh dari Pintu Masuk ke Wahana Menarik sejauh: 600 meter\n"
     ]
    }
   ],
   "source": [
    "# Mencari node yang dikunjungi dari Pintu Masuk ke Wahana Menarik\n",
    "path_node = nx.astar_path(taman_hiburan, 'Pintu Masuk', 'Wahana Menarik', heuristic=heuristable, weight='weight')\n",
    "\n",
    "# Menghitung jarak yang ditempuh dari Pintu Masuk ke Wahana Menarik\n",
    "path_length = nx.astar_path_length(taman_hiburan, 'Pintu Masuk', 'Wahana Menarik', heuristic=heuristable, weight='weight')\n",
    "\n",
    "# Cetak hasil\n",
    "print(\"Wahana yang dikunjungi dari Pintu Masuk ke Wahana Menarik adalah:\", path_node)\n",
    "print(\"Jarak yang ditempuh dari Pintu Masuk ke Wahana Menarik sejauh:\", path_length, \"meter\")"
   ]
  },
  {
   "cell_type": "markdown",
   "metadata": {},
   "source": [
    "Contoh *output*:\n",
    "\n",
    "Wahana yang dikunjungi dari Pintu Masuk ke Wahana Menarik adalah: ['Pintu Masuk', 'Wahana B', 'Wahana C', 'Wahana Menarik']\n",
    "\n",
    "Jarak yang ditempuh dari Pintu Masuk ke Wahana Menarik sejauh: 600 meter"
   ]
  },
  {
   "cell_type": "markdown",
   "metadata": {},
   "source": [
    "### 2. Implementasi Greedy BFS pada Weighted Directed Graph (Bobot Nilai: `65`)\n",
    "\n",
    "Di sebuah galeri seni modern terdapat beberapa pameran seni yang terhubung dengan jalur-jalur dalam ruangan. Setiap instalasi memiliki nama dan jarak tertentu satu sama lain. Pada galeri tersebut, Tanto ingin melihat pameran seni Leonardo da Vinci, tetapi ia ingin menggunakan jalur terpendek untuk sampai ke sana. Pengunjung tersebut memulai perjalanannya dari pintu masuk utama.\n",
    "\n",
    "Bantu Valen untuk menemukan `Pameran Leonardo da Vinci` dengan algoritma Greedy BFS edngan melakukan langkah-langkah berikut."
   ]
  },
  {
   "cell_type": "code",
   "execution_count": 52,
   "metadata": {},
   "outputs": [],
   "source": [
    "import networkx as nx # Library untuk membuat graf\n",
    "import matplotlib.pyplot as plt # Library untuk visualisasi"
   ]
  },
  {
   "cell_type": "markdown",
   "metadata": {},
   "source": [
    "### Fungsi pendukung untuk mencetak graf \n",
    "\n",
    "#### **!! Tidak usah dimodifikasi !!**"
   ]
  },
  {
   "cell_type": "code",
   "execution_count": 53,
   "metadata": {},
   "outputs": [],
   "source": [
    "# Posisi node\n",
    "pos = {\n",
    "    'Pintu Masuk': (0, 0),\n",
    "    'Van Gogh': (1, 3),\n",
    "    'Picasso': (1, -3),\n",
    "    'Monet': (4, 1),\n",
    "    'Dali': (3, -3),\n",
    "    'Klimt': (6, -1),\n",
    "    'da Vinci': (7, 1)\n",
    "}"
   ]
  },
  {
   "cell_type": "code",
   "execution_count": 54,
   "metadata": {},
   "outputs": [],
   "source": [
    "# Fungsi pendukung untuk mencetak graf\n",
    "def show_graph(G, pos=None, title='') :\n",
    "  # Membuat pos jika pos tidak diberikan\n",
    "  if pos is None:\n",
    "      pos = nx.spring_layout(G)\n",
    "  \n",
    "  # Fungsi untuk menggambar node\n",
    "  nx.draw(\n",
    "      G,                  # Graf NetworkX\n",
    "      pos,                # Posisi node\n",
    "      with_labels=True,   # Menampilkan nama node \n",
    "      node_color='red',   # Warna node\n",
    "      node_size=2000,     # Ukuran node\n",
    "      font_color=\"white\", # Warna font label node\n",
    "      font_size=10,\n",
    "      width=5             # Ketebalan garis edge\n",
    "  )\n",
    "\n",
    "  # Mengambil label edge jika ada weight\n",
    "  edge_labels = nx.get_edge_attributes(G, 'weight')  \n",
    "  # Fungsi untuk menggambar node\n",
    "  nx.draw_networkx_edge_labels(\n",
    "      G,\n",
    "      pos,\n",
    "      edge_labels=edge_labels, # Data weight\n",
    "      font_color='blue',       # Warna font label edge\n",
    "      font_size=10,            # Ukuran font label edge\n",
    "  )\n",
    "\n",
    "  plt.margins(0.2)  # Memberikan margin pada plot\n",
    "  plt.title(title)  # Menampilkan judul graf jika diberikan\n",
    "  plt.show()  "
   ]
  },
  {
   "cell_type": "markdown",
   "metadata": {},
   "source": [
    "**a.** Inisialisasi graf berarah bernama `galeri_seni` untuk menampung informasi pameran beserta jarak antara pameran tersebut."
   ]
  },
  {
   "cell_type": "code",
   "execution_count": 55,
   "metadata": {},
   "outputs": [],
   "source": [
    "# Inisialisasi graf berarah\n",
    "galeri_seni = nx.DiGraph()"
   ]
  },
  {
   "cell_type": "markdown",
   "metadata": {},
   "source": [
    "**b.** Pada galeri seni, seluruh pengunjung mulai dari pintu masuk yang kemudian terdapat beberapa pameran dari berbagai seniman dengan daftar sebagai berikut:\n",
    "\n",
    "- Van Gogh\n",
    "- Picasso\n",
    "- Monet\n",
    "- Dali\n",
    "- Klimt\n",
    "- da Vinci\n",
    "\n",
    "Tambahkan pintu masuk dan seluruh tempat pameran tersebut ke dalam graf yang sudah dibuat, kemudian tampilkan hasil graf yang sudah terdapat seluruh tempat pada galeri seni."
   ]
  },
  {
   "cell_type": "code",
   "execution_count": 56,
   "metadata": {},
   "outputs": [
    {
     "data": {
      "image/png": "[encoded data removed]",
      "text/plain": [
       "<Figure size 640x480 with 1 Axes>"
      ]
     },
     "metadata": {},
     "output_type": "display_data"
    }
   ],
   "source": [
    "# List nama tempat pada galeri seni\n",
    "nodes = [\n",
    "    'Pintu Masuk',\n",
    "    'Van Gogh',\n",
    "    'Picasso',\n",
    "    'Monet',\n",
    "    'Dali',\n",
    "    'Klimt',\n",
    "    'da Vinci'\n",
    "]\n",
    "\n",
    "# Tambahkan node dari daftar pameran yang terdapat pada galeri seni\n",
    "galeri_seni.add_nodes_from(nodes)\n",
    "\n",
    "# Tampilkan graf galeri_seni setelah penambahan node\n",
    "show_graph(galeri_seni, pos=pos, title='Graf Galeri Seni')"
   ]
  },
  {
   "cell_type": "markdown",
   "metadata": {},
   "source": [
    "Contoh *output*:\n",
    "\n",
    "![Add Nodes Galeri Seni](./asset/3_add_nodes_galeri_seni.png)"
   ]
  },
  {
   "cell_type": "markdown",
   "metadata": {},
   "source": [
    "**c.** Berikut adalah jarak dari setiap lokasi pameran pada galeri seni\n",
    "- **Pintu Masuk** ke **Pameran Van Gogh** memiliki jarak sejauh 350m.\n",
    "- **Pintu Masuk** ke **Pameran Picasso** memiliki jarak sejauh 400m.\n",
    "- **Pameran Van Gogh** ke **Pameran Monet** memiliki jarak sejauh 250m.\n",
    "- **Pameran Picasso** ke **Pameran Dali** memiliki jarak sejauh 300m.\n",
    "- **Pameran Monet** ke **Pameran Leonardo da Vinci** memiliki jarak sejauh 150m.\n",
    "- **Pameran Klimt** ke **Pameran Leonardo da Vinci** memiliki jarak sejauh 50m.\n",
    "\n",
    "**Pada Greedy BFS, jarak sebenarnya tidak diperhatikan, maka seluruh jarak diubah menjadi 0**\n",
    "\n",
    "Tambahkan data jarak tersebut ke dalam graf `galeri_seni`, kemudian tampilkan graf setelah ditambahkan jarak."
   ]
  },
  {
   "cell_type": "code",
   "execution_count": 57,
   "metadata": {},
   "outputs": [
    {
     "data": {
      "image/png": "[encoded data removed]",
      "text/plain": [
       "<Figure size 640x480 with 1 Axes>"
      ]
     },
     "metadata": {},
     "output_type": "display_data"
    }
   ],
   "source": [
    "# Daftar jarak antara dua tempat pada galeri seni\n",
    "edges = [\n",
    "    ('Pintu Masuk', 'Van Gogh', 350),\n",
    "    ('Pintu Masuk', 'Picasso', 400),\n",
    "    ('Van Gogh', 'Monet', 250),\n",
    "    ('Picasso', 'Dali', 300),\n",
    "    ('Monet', 'da Vinci', 150),\n",
    "    ('Klimt', 'da Vinci', 50),\n",
    "    ('Dali', 'Klimt', 200),\n",
    "]\n",
    "\n",
    "# Tambahkan jarak yang menghubungkan antara dua pameran\n",
    "galeri_seni.add_weighted_edges_from(edges)\n",
    "\n",
    "# Tampilkan graf galeri_seni setelah penambahan edges\n",
    "show_graph(galeri_seni, pos=pos, title='Graf Galeri Seni')"
   ]
  },
  {
   "cell_type": "markdown",
   "metadata": {},
   "source": [
    "Contoh *output* :\n",
    "\n",
    "![Add Edges Galeri Seni](./asset/4_add_edges_galeri_seni.png)"
   ]
  },
  {
   "cell_type": "markdown",
   "metadata": {},
   "source": [
    "**d.** Buat fungsi heuristik bernama `heuristable()` untuk menghitung nilai heuristik dari setiap lokasi pameran dengan nilai heuristik berikut:\n",
    "\n",
    "|Nama Tempat|Nilai Heuristik|\n",
    "|-----------|---------------|\n",
    "|Pintu Masuk|600m|\n",
    "|Van Gogh   |450m|\n",
    "|Picasso    |500m|\n",
    "|Monet      |200m|\n",
    "|Dali       |300m|\n",
    "|Klimt      |100m|\n",
    "|da Vinci   |0m|"
   ]
  },
  {
   "cell_type": "code",
   "execution_count": 58,
   "metadata": {},
   "outputs": [],
   "source": [
    "# Fungsi untuk menghitung nilai heuristik setiap node\n",
    "def heuristable(a, b):\n",
    "    if a == 'Pintu Masuk':\n",
    "        return 600\n",
    "    elif a == 'Van Gogh':\n",
    "        return 450\n",
    "    elif a == 'Picasso':\n",
    "        return 500\n",
    "    elif a == 'Monet':\n",
    "        return 200\n",
    "    elif a == 'Dali':\n",
    "        return 300\n",
    "    elif a == 'Klimt':\n",
    "        return 100\n",
    "    elif a == 'da Vinci':\n",
    "        return 0\n",
    "    else:\n",
    "        return float('inf')  # jika node tidak dikenali"
   ]
  },
  {
   "cell_type": "markdown",
   "metadata": {},
   "source": [
    "**e.** Sekarang tentukan jalur yang dilewati dari `Pintu Masuk` ke `Pameran Leonardo da Vinci` menggunakan algoritma Greedy BFS yang memanfaatkan fungsi `nx.astar_path()`. Kemudian tampilkan urutan tempat yang dikunjungi serta jarak yang ditempuh."
   ]
  },
  {
   "cell_type": "code",
   "execution_count": 59,
   "metadata": {},
   "outputs": [
    {
     "name": "stdout",
     "output_type": "stream",
     "text": [
      "Wahana yang dikunjungi dari Pintu Masuk ke da Vinci adalah: ['Pintu Masuk', 'Van Gogh', 'Monet', 'da Vinci']\n",
      "Jarak yang ditempuh dari Pintu Masuk ke da Vinci sejauh: 750 meter\n"
     ]
    }
   ],
   "source": [
    "# Mencari node yang dikunjungi dari Pintu Masuk ke da Vinci\n",
    "path_node = nx.astar_path(galeri_seni, 'Pintu Masuk', 'da Vinci', heuristic=heuristable, weight='weight')\n",
    "# Menghitung jarak yang ditempuh dari Pintu Masuk ke da Vinci\n",
    "path_length = nx.astar_path_length(galeri_seni, 'Pintu Masuk', 'da Vinci', heuristic=heuristable, weight='weight')\n",
    "# Cetak hasil\n",
    "print(\"Wahana yang dikunjungi dari Pintu Masuk ke da Vinci adalah:\", path_node)\n",
    "print(\"Jarak yang ditempuh dari Pintu Masuk ke da Vinci sejauh:\", path_length, \"meter\")"
   ]
  },
  {
   "cell_type": "markdown",
   "metadata": {},
   "source": [
    "Contoh *output*:\n",
    "\n",
    "Instalasi yang dikunjungi dari Pintu Masuk ke Instalasi Terkenal adalah: ['Pintu Masuk', 'Van Gogh', 'Monet', 'da Vinci']\n",
    "\n",
    "Jarak yang ditempuh dari Pintu Masuk ke Instalasi Terkenal sejauh: 750 m"
   ]
  }
 ],
 "metadata": {
  "kernelspec": {
   "display_name": "Python 3",
   "language": "python",
   "name": "python3"
  },
  "language_info": {
   "codemirror_mode": {
    "name": "ipython",
    "version": 3
   },
   "file_extension": ".py",
   "mimetype": "text/x-python",
   "name": "python",
   "nbconvert_exporter": "python",
   "pygments_lexer": "ipython3",
   "version": "3.13.2"
  }
 },
 "nbformat": 4,
 "nbformat_minor": 2
}
