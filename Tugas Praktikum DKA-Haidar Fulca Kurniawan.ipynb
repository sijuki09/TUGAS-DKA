{
 "cells": [
  {
   "cell_type": "markdown",
   "metadata": {},
   "source": [
    "# SOAL 1"
   ]
  },
  {
   "cell_type": "markdown",
   "metadata": {},
   "source": [
    "a. program yang menampilkan kata \"Hello, World!\""
   ]
  },
  {
   "cell_type": "code",
   "execution_count": 1,
   "metadata": {},
   "outputs": [
    {
     "name": "stdout",
     "output_type": "stream",
     "text": [
      "Hello, World!\n"
     ]
    }
   ],
   "source": [
    "print(\"Hello, World!\")"
   ]
  },
  {
   "cell_type": "markdown",
   "metadata": {},
   "source": [
    "b. penghitungan akar 9"
   ]
  },
  {
   "cell_type": "code",
   "execution_count": 1,
   "metadata": {},
   "outputs": [
    {
     "name": "stdout",
     "output_type": "stream",
     "text": [
      "3.0\n"
     ]
    }
   ],
   "source": [
    "akar_sembilan = 9**(1/2)\n",
    "print(akar_sembilan)"
   ]
  },
  {
   "cell_type": "markdown",
   "metadata": {},
   "source": [
    "c. menghitung nilai persamaan kuadrat 20x^2+25x+30  dengan meminta input"
   ]
  },
  {
   "cell_type": "code",
   "execution_count": null,
   "metadata": {},
   "outputs": [
    {
     "name": "stdout",
     "output_type": "stream",
     "text": [
      "285.0\n"
     ]
    }
   ],
   "source": [
    "x = input(\"Masukkan nilai x: \") \n",
    "x = float(x) \n",
    "\n",
    "hasil_persamaan = 20*x**2 + 25*x + 30\n",
    "print(hasil_persamaan)"
   ]
  },
  {
   "cell_type": "markdown",
   "metadata": {},
   "source": [
    "# SOAL 2"
   ]
  },
  {
   "cell_type": "markdown",
   "metadata": {},
   "source": [
    "a. program untuk mengecek apakah suatu bilangan ganjil atau genap"
   ]
  },
  {
   "cell_type": "code",
   "execution_count": 8,
   "metadata": {},
   "outputs": [
    {
     "name": "stdout",
     "output_type": "stream",
     "text": [
      "Bilangan Ganjil\n"
     ]
    }
   ],
   "source": [
    "n = input(\"Masukkan sebuah angka: \")\n",
    "n = int(n)\n",
    "\n",
    "if n%2==0 :\n",
    "    print(\"Bilangan Genap\")\n",
    "else:\n",
    "    print(\"Bilangan Ganjil\")"
   ]
  },
  {
   "cell_type": "markdown",
   "metadata": {},
   "source": [
    "b. program untuk meminta input nilai dari pengguna dalam rentang 0 hingga 100"
   ]
  },
  {
   "cell_type": "code",
   "execution_count": 16,
   "metadata": {},
   "outputs": [
    {
     "name": "stdout",
     "output_type": "stream",
     "text": [
      "A\n"
     ]
    }
   ],
   "source": [
    "nilai = input(\"Masukkan Nilai: \")\n",
    "nilai = float(nilai)\n",
    "\n",
    "if 100 >= nilai >= 85  :\n",
    "    print(\"A\")\n",
    "elif 84 >= nilai >= 70 :\n",
    "    print(\"B\")\n",
    "elif 69 >= nilai >= 55 :\n",
    "    print(\"C\")\n",
    "elif 54 >= nilai >= 40 :\n",
    "    print(\"D\")\n",
    "elif 39 >= nilai >= 0 :\n",
    "    print(\"E\")"
   ]
  },
  {
   "cell_type": "markdown",
   "metadata": {},
   "source": [
    "# SOAL 3"
   ]
  },
  {
   "cell_type": "markdown",
   "metadata": {},
   "source": [
    "a. prosedur yang menerima parameter berupa nama"
   ]
  },
  {
   "cell_type": "code",
   "execution_count": 18,
   "metadata": {},
   "outputs": [
    {
     "name": "stdout",
     "output_type": "stream",
     "text": [
      "Selamat datang kembali, Reza\n"
     ]
    }
   ],
   "source": [
    "def greet_reza(nama) :\n",
    "    if nama ==\"Reza\" :\n",
    "        print(f\"Selamat datang kembali, {nama}\")\n",
    "    else :\n",
    "        print(f\"Selamat datang, {nama}\")\n",
    "\n",
    "input_nama = input(\"Masukkan nama: \") \n",
    "\n",
    "greet_reza(input_nama)"
   ]
  },
  {
   "cell_type": "markdown",
   "metadata": {},
   "source": [
    "b. fungsi sederhana yang mengonversi jarak dari kilometer (KM) menjadi meter (M)"
   ]
  },
  {
   "cell_type": "code",
   "execution_count": 21,
   "metadata": {},
   "outputs": [
    {
     "name": "stdout",
     "output_type": "stream",
     "text": [
      "5674.8\n"
     ]
    }
   ],
   "source": [
    "def konversi(kilo) : \n",
    "    meter = kilo * 1000\n",
    "\n",
    "    return meter\n",
    "\n",
    "inputjarak = input(\"Masukkan jarak (KM): \")\n",
    "inputjarak = float(inputjarak)\n",
    "\n",
    "hasil_konversi = konversi(inputjarak)\n",
    "print(hasil_konversi) "
   ]
  },
  {
   "cell_type": "markdown",
   "metadata": {},
   "source": [
    "# SOAL 4"
   ]
  },
  {
   "cell_type": "markdown",
   "metadata": {},
   "source": [
    "a. program yang menerima input dari pengguna berupa sebuah bilangan bulat positif n dan akan menampilkan bilangan ganjil dari 1 hingga n"
   ]
  },
  {
   "cell_type": "code",
   "execution_count": 22,
   "metadata": {},
   "outputs": [
    {
     "name": "stdout",
     "output_type": "stream",
     "text": [
      "1\n",
      "3\n",
      "5\n",
      "7\n",
      "9\n"
     ]
    }
   ],
   "source": [
    "n = input(\"Masukkan angka ke-n: \")\n",
    "n = int(n)\n",
    "\n",
    "for i in range(1, n+1, 2) : \n",
    "    print(i)"
   ]
  },
  {
   "cell_type": "markdown",
   "metadata": {},
   "source": [
    "b. fungsi yang menerima argumen n dan mengembalikan jumlah dari bilangan bulat dari 1 hingga n"
   ]
  },
  {
   "cell_type": "code",
   "execution_count": null,
   "metadata": {},
   "outputs": [
    {
     "name": "stdout",
     "output_type": "stream",
     "text": [
      "15\n"
     ]
    }
   ],
   "source": [
    "def penjumlahan(n) : \n",
    "    if n == 0 : \n",
    "        return 0\n",
    "\n",
    "    else :\n",
    "        total = 0\n",
    "        i = 0\n",
    "        while i <= n : \n",
    "            total += i \n",
    "            i = i + 1 \n",
    "        return total \n",
    "\n",
    "\n",
    "inputangka = input(\"Masukkan angka ke-n: \")\n",
    "inputangka = int(inputangka)\n",
    "\n",
    "hasilpenjumlahan = penjumlahan(inputangka) \n",
    "print(hasilpenjumlahan) "
   ]
  },
  {
   "cell_type": "markdown",
   "metadata": {},
   "source": [
    "# SOAL 5"
   ]
  },
  {
   "cell_type": "markdown",
   "metadata": {},
   "source": [
    "a. program yang mengganti ekstensi .go menjadi .py pada setiap elemen dalam list filenames"
   ]
  },
  {
   "cell_type": "code",
   "execution_count": 28,
   "metadata": {},
   "outputs": [
    {
     "name": "stdout",
     "output_type": "stream",
     "text": [
      "['app.py', 'main.py', 'formula.py', 'program.py']\n"
     ]
    }
   ],
   "source": [
    "filenames = [\"app.go\", \"main.go\", \"formula.go\", \"program.go\"]\n",
    "new_filenames = []  \n",
    "\n",
    "for itemfile in filenames:  \n",
    "    new_name = itemfile.replace(\".go\", \".py\") \n",
    "    new_filenames.append(new_name)  \n",
    "\n",
    "print(new_filenames)\n"
   ]
  },
  {
   "cell_type": "markdown",
   "metadata": {},
   "source": [
    "b. fungsi email_list yang menerima sebuah dictionary. Dictonary ini berisi nama domain sebagai key, dan daftar pengguna sebagai value"
   ]
  },
  {
   "cell_type": "code",
   "execution_count": 30,
   "metadata": {},
   "outputs": [
    {
     "name": "stdout",
     "output_type": "stream",
     "text": [
      "['rafly.arj@gmail.com', 'syahreza.adnan@gmail.com', 'valen.hartanto@gmail.com', 'sabrina.tiara@telkomuniversity.ac.id', 'imelda@telkomuniversity.ac.id', 'raihan.omen@yahoo.com', 'dito.asyraf@yahoo.com']\n"
     ]
    }
   ],
   "source": [
    "def email_list(domains) :\n",
    "    emails = [] \n",
    "\n",
    "    for key, values in domains.items() :\n",
    "        for value in values:\n",
    "            \n",
    "            emails.append(value+'@'+key)\n",
    "\n",
    "    return emails\n",
    "\n",
    "email_domain = {\n",
    "    \"gmail.com\": [\"rafly.arj\", \"syahreza.adnan\", \"valen.hartanto\"],\n",
    "    \"telkomuniversity.ac.id\" : [\"sabrina.tiara\", \"imelda\"],\n",
    "    \"yahoo.com\" : [\"raihan.omen\", \"dito.asyraf\"]\n",
    "}\n",
    "\n",
    "emaillist = email_list(email_domain)\n",
    "\n",
    "print(emaillist) \n"
   ]
  },
  {
   "cell_type": "markdown",
   "metadata": {},
   "source": [
    "# SOAL 6"
   ]
  },
  {
   "cell_type": "markdown",
   "metadata": {},
   "source": [
    "program sederhana untuk mencatat nilai ujian siswa"
   ]
  },
  {
   "cell_type": "code",
   "execution_count": 1,
   "metadata": {},
   "outputs": [
    {
     "name": "stdout",
     "output_type": "stream",
     "text": [
      "\n",
      "Data Siswa:\n",
      "budi: [10, 10, 10], Rata-rata: 10.0, Status: Tidak Lulus\n",
      "susi: [100, 100, 50], Rata-rata: 83.33, Status: Lulus\n"
     ]
    }
   ],
   "source": [
    "datasiswa = {}\n",
    "\n",
    "while True:\n",
    "    nama = input(\"Masukkan nama siswa: (atau ketik 'selesai' untuk berhenti): \")\n",
    "\n",
    "    if nama.lower() == \"selesai\":\n",
    "        break\n",
    "\n",
    "    nilai = []\n",
    "    total = 0\n",
    "\n",
    "    for i in range (1,4,1) :\n",
    "        nilai.append(int(input(f\"Masukkan nilai mata pelajaran {i}: \")))\n",
    "        total += nilai[i-1]\n",
    "    \n",
    "    rata = total / 3\n",
    "\n",
    "    if total >= 70 :\n",
    "        status = (\"Lulus\")\n",
    "    elif 70 > total >= 0 :\n",
    "        status = (\"Tidak Lulus\")\n",
    "\n",
    "    datasiswa[nama] = {\n",
    "        \"Nilai\": nilai,\n",
    "        \"Rata-rata\": round(rata, 2),\n",
    "        \"Status\": status\n",
    "    }\n",
    "\n",
    "\n",
    "print(\"\\nData Siswa:\")\n",
    "for nama, info in datasiswa.items():\n",
    "    print(f\"{nama}: {info['Nilai']}, Rata-rata: {info['Rata-rata']}, Status: {info['Status']}\")\n"
   ]
  }
 ],
 "metadata": {
  "kernelspec": {
   "display_name": "Python 3",
   "language": "python",
   "name": "python3"
  },
  "language_info": {
   "codemirror_mode": {
    "name": "ipython",
    "version": 3
   },
   "file_extension": ".py",
   "mimetype": "text/x-python",
   "name": "python",
   "nbconvert_exporter": "python",
   "pygments_lexer": "ipython3",
   "version": "3.13.2"
  }
 },
 "nbformat": 4,
 "nbformat_minor": 2
}
